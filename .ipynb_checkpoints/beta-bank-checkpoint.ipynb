{
 "cells": [
  {
   "cell_type": "markdown",
   "id": "61818528",
   "metadata": {
    "toc": true
   },
   "source": [
    "<h1>Исследование для Beta Bank<span class=\"tocSkip\"></span></h1>\n",
    "<div class=\"toc\"><ul class=\"toc-item\"><li><span><a href=\"#Изучение-и-анализ-данных\" data-toc-modified-id=\"Изучение-и-анализ-данных-1\"><span class=\"toc-item-num\">1&nbsp;&nbsp;</span>Изучение и анализ данных</a></span><ul class=\"toc-item\"><li><span><a href=\"#Изучение-датасета\" data-toc-modified-id=\"Изучение-датасета-1.1\"><span class=\"toc-item-num\">1.1&nbsp;&nbsp;</span>Изучение датасета</a></span></li><li><span><a href=\"#Проверка-на-ошибки-и-дубликаты\" data-toc-modified-id=\"Проверка-на-ошибки-и-дубликаты-1.2\"><span class=\"toc-item-num\">1.2&nbsp;&nbsp;</span>Проверка на ошибки и дубликаты</a></span></li><li><span><a href=\"#Изучение-пропусков\" data-toc-modified-id=\"Изучение-пропусков-1.3\"><span class=\"toc-item-num\">1.3&nbsp;&nbsp;</span>Изучение пропусков</a></span></li><li><span><a href=\"#Анализ-количественных-переменных\" data-toc-modified-id=\"Анализ-количественных-переменных-1.4\"><span class=\"toc-item-num\">1.4&nbsp;&nbsp;</span>Анализ количественных переменных</a></span></li></ul></li><li><span><a href=\"#Подготовка-данных-к-исследованию\" data-toc-modified-id=\"Подготовка-данных-к-исследованию-2\"><span class=\"toc-item-num\">2&nbsp;&nbsp;</span>Подготовка данных к исследованию</a></span><ul class=\"toc-item\"><li><span><a href=\"#Разделение-на-признаки-и-целевой-признак,-тренировочную-и-валидационную-выборки\" data-toc-modified-id=\"Разделение-на-признаки-и-целевой-признак,-тренировочную-и-валидационную-выборки-2.1\"><span class=\"toc-item-num\">2.1&nbsp;&nbsp;</span>Разделение на признаки и целевой признак, тренировочную и валидационную выборки</a></span></li><li><span><a href=\"#Прямое-кодирование\" data-toc-modified-id=\"Прямое-кодирование-2.2\"><span class=\"toc-item-num\">2.2&nbsp;&nbsp;</span>Прямое кодирование</a></span></li><li><span><a href=\"#Масштабирование-признаков\" data-toc-modified-id=\"Масштабирование-признаков-2.3\"><span class=\"toc-item-num\">2.3&nbsp;&nbsp;</span>Масштабирование признаков</a></span></li></ul></li><li><span><a href=\"#Обучение-модели-на-подготовленных-данных-и-оценка-качества-модели\" data-toc-modified-id=\"Обучение-модели-на-подготовленных-данных-и-оценка-качества-модели-3\"><span class=\"toc-item-num\">3&nbsp;&nbsp;</span>Обучение модели на подготовленных данных и оценка качества модели</a></span><ul class=\"toc-item\"><li><span><a href=\"#Логистическая-регрессия\" data-toc-modified-id=\"Логистическая-регрессия-3.1\"><span class=\"toc-item-num\">3.1&nbsp;&nbsp;</span>Логистическая регрессия</a></span></li><li><span><a href=\"#Дерево-решений\" data-toc-modified-id=\"Дерево-решений-3.2\"><span class=\"toc-item-num\">3.2&nbsp;&nbsp;</span>Дерево решений</a></span></li><li><span><a href=\"#Случайный-лес\" data-toc-modified-id=\"Случайный-лес-3.3\"><span class=\"toc-item-num\">3.3&nbsp;&nbsp;</span>Случайный лес</a></span></li></ul></li><li><span><a href=\"#Улучшение-модели\" data-toc-modified-id=\"Улучшение-модели-4\"><span class=\"toc-item-num\">4&nbsp;&nbsp;</span>Улучшение модели</a></span><ul class=\"toc-item\"><li><span><a href=\"#Взвешивание-классов\" data-toc-modified-id=\"Взвешивание-классов-4.1\"><span class=\"toc-item-num\">4.1&nbsp;&nbsp;</span>Взвешивание классов</a></span><ul class=\"toc-item\"><li><span><a href=\"#Логистическая-регрессия\" data-toc-modified-id=\"Логистическая-регрессия-4.1.1\"><span class=\"toc-item-num\">4.1.1&nbsp;&nbsp;</span>Логистическая регрессия</a></span></li><li><span><a href=\"#Дерево-решений\" data-toc-modified-id=\"Дерево-решений-4.1.2\"><span class=\"toc-item-num\">4.1.2&nbsp;&nbsp;</span>Дерево решений</a></span></li><li><span><a href=\"#Случайный-лес\" data-toc-modified-id=\"Случайный-лес-4.1.3\"><span class=\"toc-item-num\">4.1.3&nbsp;&nbsp;</span>Случайный лес</a></span></li></ul></li><li><span><a href=\"#Увеличение-данных-в-выборке\" data-toc-modified-id=\"Увеличение-данных-в-выборке-4.2\"><span class=\"toc-item-num\">4.2&nbsp;&nbsp;</span>Увеличение данных в выборке</a></span><ul class=\"toc-item\"><li><span><a href=\"#Логистическая-регрессия\" data-toc-modified-id=\"Логистическая-регрессия-4.2.1\"><span class=\"toc-item-num\">4.2.1&nbsp;&nbsp;</span>Логистическая регрессия</a></span></li><li><span><a href=\"#Дерево-решений\" data-toc-modified-id=\"Дерево-решений-4.2.2\"><span class=\"toc-item-num\">4.2.2&nbsp;&nbsp;</span>Дерево решений</a></span></li><li><span><a href=\"#Случайный-лес\" data-toc-modified-id=\"Случайный-лес-4.2.3\"><span class=\"toc-item-num\">4.2.3&nbsp;&nbsp;</span>Случайный лес</a></span></li></ul></li></ul></li><li><span><a href=\"#Проверка-модели-на-тестовых-данных\" data-toc-modified-id=\"Проверка-модели-на-тестовых-данных-5\"><span class=\"toc-item-num\">5&nbsp;&nbsp;</span>Проверка модели на тестовых данных</a></span><ul class=\"toc-item\"><li><span><a href=\"#Проверка-модели-random_forest_1-на-тестовой-выборке\" data-toc-modified-id=\"Проверка-модели-random_forest_1-на-тестовой-выборке-5.1\"><span class=\"toc-item-num\">5.1&nbsp;&nbsp;</span>Проверка модели random_forest_1 на тестовой выборке</a></span></li><li><span><a href=\"#Проверка-на-Dummy-классификаторе\" data-toc-modified-id=\"Проверка-на-Dummy-классификаторе-5.2\"><span class=\"toc-item-num\">5.2&nbsp;&nbsp;</span>Проверка на Dummy-классификаторе</a></span></li></ul></li></ul></div>"
   ]
  },
  {
   "cell_type": "markdown",
   "id": "cd4e7d31",
   "metadata": {},
   "source": [
    "# Цель исследования поведения клиентов \"Бета-Банка\""
   ]
  },
  {
   "cell_type": "markdown",
   "id": "61da73d2",
   "metadata": {},
   "source": [
    "\"Бета-Банк\" выяснил, что многие клиенты банка расторгают договор. Менеджеры банка обратили внимание, что клиенты покидают банк и и пришли к выводу, что дешевле удерживать оставшихся клиентов, чем привлекать новых. \n",
    "\n",
    "В нашем распоряжении информация о поведении клиентов, за некоторое время, кто-то из них уже ушел из банка (датасет Churn.csv).\n",
    "\n",
    "Цель работы - построить модель для задачи классификации, которая спрогнозирует уйдет ли клиент из банка в ближайшее время. Информацию о поведении клиентов, которые ушли или остались в банке, будем использовать для обучения и проверки качества модели.\n",
    "\n",
    "Поставленная задача является задачей бинарной классификации 0/1 (клиент останется в банке/клиент уйдет из банка). Так как все ответы нам заранее известны, будем проводить обучение с учителем. Для ее решения подойдут модели Дерево решений, Случайный лес и Логистическая регрессия. Будем использовать 3 модели для решения задач классификации, метрики качества __полноту__, __точность__, __F1-меру__ (среднее гармоническое полноты и точности), __ROC-кривую__ (кривую ошибок) и  __AUC ROC__ (числовую интерпритацию кривой ошибок) для оценки качества модели на валидационной и тестовой выборках. \n",
    "\n",
    "Обученная модель может выдать 2 ложных ответа:\n",
    "* 0 вместо 1 (ложно-отрицательный ответ), значит определит клиента, который собирается уйти, как клиента который останется и ему не дадут бонусы чтобы предотвратить уход,\n",
    "* 1 вместо 0 (ложно-положительный ответ), значит определит клиента, который не собирается уходить из банка, как клиента, который уйдет, ему достануться бонусы, которые не на что не повлияют.\n",
    "\n",
    "Таким образом, для нашей  модели важно правильно классифицировать положительные ответы и минимизировать ложно-отрицательные ответы (ориентироваться на высокие показатели полноты-recall), т.е. лучше выдать лишние бонусы, чем проигнорировать недовольного или нелояльного клиента, который собиратеся уйти. "
   ]
  },
  {
   "cell_type": "markdown",
   "id": "6bdc7677",
   "metadata": {},
   "source": [
    "## Изучение и анализ данных"
   ]
  },
  {
   "cell_type": "code",
   "execution_count": 1,
   "id": "69bca312",
   "metadata": {},
   "outputs": [
    {
     "name": "stdout",
     "output_type": "stream",
     "text": [
      "Requirement already satisfied: scikit-learn==1.2.1 in c:\\users\\petne\\anaconda3\\lib\\site-packages (1.2.1)\n",
      "Requirement already satisfied: joblib>=1.1.1 in c:\\users\\petne\\anaconda3\\lib\\site-packages (from scikit-learn==1.2.1) (1.2.0)\n",
      "Requirement already satisfied: threadpoolctl>=2.0.0 in c:\\users\\petne\\anaconda3\\lib\\site-packages (from scikit-learn==1.2.1) (2.2.0)\n",
      "Requirement already satisfied: numpy>=1.17.3 in c:\\users\\petne\\anaconda3\\lib\\site-packages (from scikit-learn==1.2.1) (1.21.5)\n",
      "Requirement already satisfied: scipy>=1.3.2 in c:\\users\\petne\\anaconda3\\lib\\site-packages (from scikit-learn==1.2.1) (1.9.1)\n"
     ]
    }
   ],
   "source": [
    "!pip install scikit-learn==1.2.1"
   ]
  },
  {
   "cell_type": "code",
   "execution_count": 2,
   "id": "5b7997be",
   "metadata": {},
   "outputs": [
    {
     "name": "stdout",
     "output_type": "stream",
     "text": [
      "Requirement already satisfied: imblearn in c:\\users\\petne\\anaconda3\\lib\\site-packages (0.0)\n",
      "Requirement already satisfied: imbalanced-learn in c:\\users\\petne\\anaconda3\\lib\\site-packages (from imblearn) (0.10.1)\n",
      "Requirement already satisfied: scikit-learn>=1.0.2 in c:\\users\\petne\\anaconda3\\lib\\site-packages (from imbalanced-learn->imblearn) (1.2.1)\n",
      "Requirement already satisfied: threadpoolctl>=2.0.0 in c:\\users\\petne\\anaconda3\\lib\\site-packages (from imbalanced-learn->imblearn) (2.2.0)\n",
      "Requirement already satisfied: scipy>=1.3.2 in c:\\users\\petne\\anaconda3\\lib\\site-packages (from imbalanced-learn->imblearn) (1.9.1)\n",
      "Requirement already satisfied: joblib>=1.1.1 in c:\\users\\petne\\anaconda3\\lib\\site-packages (from imbalanced-learn->imblearn) (1.2.0)\n",
      "Requirement already satisfied: numpy>=1.17.3 in c:\\users\\petne\\anaconda3\\lib\\site-packages (from imbalanced-learn->imblearn) (1.21.5)\n"
     ]
    }
   ],
   "source": [
    "!pip install imblearn"
   ]
  },
  {
   "cell_type": "code",
   "execution_count": 3,
   "id": "ab4d6a85",
   "metadata": {},
   "outputs": [],
   "source": [
    "import warnings\n",
    "\n",
    "# загрузим необходимые библиотеки и модули из библиотеки sklearn:\n",
    "import pandas as pd\n",
    "import numpy as np\n",
    "import matplotlib.pyplot as plt\n",
    "\n",
    "from sklearn.model_selection import train_test_split\n",
    "from sklearn.preprocessing import StandardScaler, OneHotEncoder\n",
    "from sklearn.linear_model import LogisticRegression\n",
    "from sklearn.tree import DecisionTreeClassifier\n",
    "from sklearn.ensemble import RandomForestClassifier\n",
    "from sklearn.metrics import (\n",
    "    accuracy_score, \n",
    "    f1_score, \n",
    "    recall_score, \n",
    "    precision_score, \n",
    "    confusion_matrix \n",
    ")\n",
    "from sklearn.metrics import roc_curve, roc_auc_score\n",
    "from sklearn.utils import shuffle\n",
    "from sklearn.dummy import DummyClassifier\n",
    "\n",
    "from imblearn.over_sampling import SMOTE\n",
    "\n",
    "import joblib\n",
    "from joblib import dump\n",
    "\n",
    "warnings.filterwarnings(\"ignore\")"
   ]
  },
  {
   "cell_type": "markdown",
   "id": "90cb234a",
   "metadata": {},
   "source": [
    "### Изучение датасета"
   ]
  },
  {
   "cell_type": "code",
   "execution_count": 4,
   "id": "215b018f",
   "metadata": {},
   "outputs": [],
   "source": [
    "# прочитаем датасет:\n",
    "try:\n",
    "    df = pd.read_csv('Churn.csv')\n",
    "except:\n",
    "    df = pd.read_csv('/datasets/Churn.csv')"
   ]
  },
  {
   "cell_type": "code",
   "execution_count": 5,
   "id": "b6eac8bb",
   "metadata": {},
   "outputs": [
    {
     "data": {
      "text/html": [
       "<div>\n",
       "<style scoped>\n",
       "    .dataframe tbody tr th:only-of-type {\n",
       "        vertical-align: middle;\n",
       "    }\n",
       "\n",
       "    .dataframe tbody tr th {\n",
       "        vertical-align: top;\n",
       "    }\n",
       "\n",
       "    .dataframe thead th {\n",
       "        text-align: right;\n",
       "    }\n",
       "</style>\n",
       "<table border=\"1\" class=\"dataframe\">\n",
       "  <thead>\n",
       "    <tr style=\"text-align: right;\">\n",
       "      <th></th>\n",
       "      <th>RowNumber</th>\n",
       "      <th>CustomerId</th>\n",
       "      <th>Surname</th>\n",
       "      <th>CreditScore</th>\n",
       "      <th>Geography</th>\n",
       "      <th>Gender</th>\n",
       "      <th>Age</th>\n",
       "      <th>Tenure</th>\n",
       "      <th>Balance</th>\n",
       "      <th>NumOfProducts</th>\n",
       "      <th>HasCrCard</th>\n",
       "      <th>IsActiveMember</th>\n",
       "      <th>EstimatedSalary</th>\n",
       "      <th>Exited</th>\n",
       "    </tr>\n",
       "  </thead>\n",
       "  <tbody>\n",
       "    <tr>\n",
       "      <th>0</th>\n",
       "      <td>1</td>\n",
       "      <td>15634602</td>\n",
       "      <td>Hargrave</td>\n",
       "      <td>619</td>\n",
       "      <td>France</td>\n",
       "      <td>Female</td>\n",
       "      <td>42</td>\n",
       "      <td>2.0</td>\n",
       "      <td>0.00</td>\n",
       "      <td>1</td>\n",
       "      <td>1</td>\n",
       "      <td>1</td>\n",
       "      <td>101348.88</td>\n",
       "      <td>1</td>\n",
       "    </tr>\n",
       "    <tr>\n",
       "      <th>1</th>\n",
       "      <td>2</td>\n",
       "      <td>15647311</td>\n",
       "      <td>Hill</td>\n",
       "      <td>608</td>\n",
       "      <td>Spain</td>\n",
       "      <td>Female</td>\n",
       "      <td>41</td>\n",
       "      <td>1.0</td>\n",
       "      <td>83807.86</td>\n",
       "      <td>1</td>\n",
       "      <td>0</td>\n",
       "      <td>1</td>\n",
       "      <td>112542.58</td>\n",
       "      <td>0</td>\n",
       "    </tr>\n",
       "    <tr>\n",
       "      <th>2</th>\n",
       "      <td>3</td>\n",
       "      <td>15619304</td>\n",
       "      <td>Onio</td>\n",
       "      <td>502</td>\n",
       "      <td>France</td>\n",
       "      <td>Female</td>\n",
       "      <td>42</td>\n",
       "      <td>8.0</td>\n",
       "      <td>159660.80</td>\n",
       "      <td>3</td>\n",
       "      <td>1</td>\n",
       "      <td>0</td>\n",
       "      <td>113931.57</td>\n",
       "      <td>1</td>\n",
       "    </tr>\n",
       "    <tr>\n",
       "      <th>3</th>\n",
       "      <td>4</td>\n",
       "      <td>15701354</td>\n",
       "      <td>Boni</td>\n",
       "      <td>699</td>\n",
       "      <td>France</td>\n",
       "      <td>Female</td>\n",
       "      <td>39</td>\n",
       "      <td>1.0</td>\n",
       "      <td>0.00</td>\n",
       "      <td>2</td>\n",
       "      <td>0</td>\n",
       "      <td>0</td>\n",
       "      <td>93826.63</td>\n",
       "      <td>0</td>\n",
       "    </tr>\n",
       "    <tr>\n",
       "      <th>4</th>\n",
       "      <td>5</td>\n",
       "      <td>15737888</td>\n",
       "      <td>Mitchell</td>\n",
       "      <td>850</td>\n",
       "      <td>Spain</td>\n",
       "      <td>Female</td>\n",
       "      <td>43</td>\n",
       "      <td>2.0</td>\n",
       "      <td>125510.82</td>\n",
       "      <td>1</td>\n",
       "      <td>1</td>\n",
       "      <td>1</td>\n",
       "      <td>79084.10</td>\n",
       "      <td>0</td>\n",
       "    </tr>\n",
       "  </tbody>\n",
       "</table>\n",
       "</div>"
      ],
      "text/plain": [
       "   RowNumber  CustomerId   Surname  CreditScore Geography  Gender  Age  \\\n",
       "0          1    15634602  Hargrave          619    France  Female   42   \n",
       "1          2    15647311      Hill          608     Spain  Female   41   \n",
       "2          3    15619304      Onio          502    France  Female   42   \n",
       "3          4    15701354      Boni          699    France  Female   39   \n",
       "4          5    15737888  Mitchell          850     Spain  Female   43   \n",
       "\n",
       "   Tenure    Balance  NumOfProducts  HasCrCard  IsActiveMember  \\\n",
       "0     2.0       0.00              1          1               1   \n",
       "1     1.0   83807.86              1          0               1   \n",
       "2     8.0  159660.80              3          1               0   \n",
       "3     1.0       0.00              2          0               0   \n",
       "4     2.0  125510.82              1          1               1   \n",
       "\n",
       "   EstimatedSalary  Exited  \n",
       "0        101348.88       1  \n",
       "1        112542.58       0  \n",
       "2        113931.57       1  \n",
       "3         93826.63       0  \n",
       "4         79084.10       0  "
      ]
     },
     "execution_count": 5,
     "metadata": {},
     "output_type": "execute_result"
    }
   ],
   "source": [
    "# посмотрим первые 5 объектов в данных:\n",
    "df.head()"
   ]
  },
  {
   "cell_type": "markdown",
   "id": "515b881b",
   "metadata": {},
   "source": [
    "Описание данных:\n",
    "* RowNumber — индекс строки в данных\n",
    "* СustomerId — уникальный идентификатор клиента\n",
    "* Surname — фамилия\n",
    "* CreditScore — кредитный рейтинг\n",
    "* Geography — страна проживания\n",
    "* Gender — пол\n",
    "* Age — возраст\n",
    "* Tenure — сколько лет человек является клиентом банка\n",
    "* Balance — баланс на счёте\n",
    "* NumOfProducts — количество продуктов банка, используемых клиентом\n",
    "* HasCrCard — наличие кредитной карты\n",
    "* IsActiveMember — активность клиента\n",
    "* EstimatedSalary — предполагаемая зарплата\n",
    "* Exited — факт ухода клиента"
   ]
  },
  {
   "cell_type": "code",
   "execution_count": 6,
   "id": "4cdaec77",
   "metadata": {},
   "outputs": [
    {
     "name": "stdout",
     "output_type": "stream",
     "text": [
      "<class 'pandas.core.frame.DataFrame'>\n",
      "RangeIndex: 10000 entries, 0 to 9999\n",
      "Data columns (total 14 columns):\n",
      " #   Column           Non-Null Count  Dtype  \n",
      "---  ------           --------------  -----  \n",
      " 0   RowNumber        10000 non-null  int64  \n",
      " 1   CustomerId       10000 non-null  int64  \n",
      " 2   Surname          10000 non-null  object \n",
      " 3   CreditScore      10000 non-null  int64  \n",
      " 4   Geography        10000 non-null  object \n",
      " 5   Gender           10000 non-null  object \n",
      " 6   Age              10000 non-null  int64  \n",
      " 7   Tenure           9091 non-null   float64\n",
      " 8   Balance          10000 non-null  float64\n",
      " 9   NumOfProducts    10000 non-null  int64  \n",
      " 10  HasCrCard        10000 non-null  int64  \n",
      " 11  IsActiveMember   10000 non-null  int64  \n",
      " 12  EstimatedSalary  10000 non-null  float64\n",
      " 13  Exited           10000 non-null  int64  \n",
      "dtypes: float64(3), int64(8), object(3)\n",
      "memory usage: 1.1+ MB\n"
     ]
    }
   ],
   "source": [
    "# и информацию о датасете:\n",
    "df.info()"
   ]
  },
  {
   "cell_type": "markdown",
   "id": "1e89ad3f",
   "metadata": {},
   "source": [
    "В датасете 10 тыс. объектов, в основном содержатся числовые данные. Пропуски содержит только столбец `Tenure`. Проверим содержание категориальных и количественных переменных в столбцах на предмет дублей, ошибок или явных выбросов."
   ]
  },
  {
   "cell_type": "markdown",
   "id": "9857f87d",
   "metadata": {},
   "source": [
    "### Проверка на ошибки и дубликаты"
   ]
  },
  {
   "cell_type": "code",
   "execution_count": 7,
   "id": "7ce9cb98",
   "metadata": {},
   "outputs": [
    {
     "data": {
      "text/plain": [
       "0"
      ]
     },
     "execution_count": 7,
     "metadata": {},
     "output_type": "execute_result"
    }
   ],
   "source": [
    "# проверим датасет на дубликаты:\n",
    "df.duplicated().sum()"
   ]
  },
  {
   "cell_type": "code",
   "execution_count": 8,
   "id": "b50d4ed1",
   "metadata": {
    "scrolled": true
   },
   "outputs": [
    {
     "data": {
      "text/plain": [
       "10000"
      ]
     },
     "execution_count": 8,
     "metadata": {},
     "output_type": "execute_result"
    }
   ],
   "source": [
    "# посмотрим количество уникальных значений в столбце `CustomerId`:\n",
    "len(df['CustomerId'].unique())"
   ]
  },
  {
   "cell_type": "markdown",
   "id": "57b6ac1e",
   "metadata": {},
   "source": [
    "Мы убедились, что все значения в столбце `CustomerId` уникальные, значит можно рассчитывать, что в датасете 10 тыс. уникальных объектов."
   ]
  },
  {
   "cell_type": "markdown",
   "id": "04db9048",
   "metadata": {},
   "source": [
    "Проверим могут ли наблюдаться дубли или ошибки в столбце с фамилиями:\n",
    "Посмотрим как распеделены значения в столбце `Surname`:"
   ]
  },
  {
   "cell_type": "code",
   "execution_count": 9,
   "id": "6d7598d9",
   "metadata": {},
   "outputs": [
    {
     "data": {
      "text/plain": [
       "Smith       32\n",
       "Scott       29\n",
       "Martin      29\n",
       "Walker      28\n",
       "Brown       26\n",
       "            ..\n",
       "Izmailov     1\n",
       "Bold         1\n",
       "Bonham       1\n",
       "Poninski     1\n",
       "Burbidge     1\n",
       "Name: Surname, Length: 2932, dtype: int64"
      ]
     },
     "execution_count": 9,
     "metadata": {},
     "output_type": "execute_result"
    }
   ],
   "source": [
    "df['Surname'].value_counts()"
   ]
  },
  {
   "cell_type": "markdown",
   "id": "5a49b755",
   "metadata": {},
   "source": [
    "В этом стоблце гораздо меньше уникальных значений, только 2932, возможно ли что одному человеку может быть присвоено несколько строк, содержащих одну и ту же информацию. Проверим на самой распространненной фамилии Smith."
   ]
  },
  {
   "cell_type": "code",
   "execution_count": 10,
   "id": "a7dbd7f9",
   "metadata": {
    "scrolled": true
   },
   "outputs": [
    {
     "data": {
      "text/html": [
       "<div>\n",
       "<style scoped>\n",
       "    .dataframe tbody tr th:only-of-type {\n",
       "        vertical-align: middle;\n",
       "    }\n",
       "\n",
       "    .dataframe tbody tr th {\n",
       "        vertical-align: top;\n",
       "    }\n",
       "\n",
       "    .dataframe thead th {\n",
       "        text-align: right;\n",
       "    }\n",
       "</style>\n",
       "<table border=\"1\" class=\"dataframe\">\n",
       "  <thead>\n",
       "    <tr style=\"text-align: right;\">\n",
       "      <th></th>\n",
       "      <th>RowNumber</th>\n",
       "      <th>CustomerId</th>\n",
       "      <th>Surname</th>\n",
       "      <th>CreditScore</th>\n",
       "      <th>Geography</th>\n",
       "      <th>Gender</th>\n",
       "      <th>Age</th>\n",
       "      <th>Tenure</th>\n",
       "      <th>Balance</th>\n",
       "      <th>NumOfProducts</th>\n",
       "      <th>HasCrCard</th>\n",
       "      <th>IsActiveMember</th>\n",
       "      <th>EstimatedSalary</th>\n",
       "      <th>Exited</th>\n",
       "    </tr>\n",
       "  </thead>\n",
       "  <tbody>\n",
       "    <tr>\n",
       "      <th>234</th>\n",
       "      <td>235</td>\n",
       "      <td>15704769</td>\n",
       "      <td>Smith</td>\n",
       "      <td>585</td>\n",
       "      <td>France</td>\n",
       "      <td>Female</td>\n",
       "      <td>67</td>\n",
       "      <td>5.0</td>\n",
       "      <td>113978.97</td>\n",
       "      <td>2</td>\n",
       "      <td>0</td>\n",
       "      <td>1</td>\n",
       "      <td>93146.11</td>\n",
       "      <td>0</td>\n",
       "    </tr>\n",
       "    <tr>\n",
       "      <th>479</th>\n",
       "      <td>480</td>\n",
       "      <td>15797736</td>\n",
       "      <td>Smith</td>\n",
       "      <td>658</td>\n",
       "      <td>France</td>\n",
       "      <td>Male</td>\n",
       "      <td>29</td>\n",
       "      <td>4.0</td>\n",
       "      <td>80262.60</td>\n",
       "      <td>1</td>\n",
       "      <td>1</td>\n",
       "      <td>1</td>\n",
       "      <td>20612.82</td>\n",
       "      <td>0</td>\n",
       "    </tr>\n",
       "    <tr>\n",
       "      <th>745</th>\n",
       "      <td>746</td>\n",
       "      <td>15640059</td>\n",
       "      <td>Smith</td>\n",
       "      <td>606</td>\n",
       "      <td>France</td>\n",
       "      <td>Male</td>\n",
       "      <td>40</td>\n",
       "      <td>5.0</td>\n",
       "      <td>0.00</td>\n",
       "      <td>2</td>\n",
       "      <td>1</td>\n",
       "      <td>1</td>\n",
       "      <td>70899.27</td>\n",
       "      <td>0</td>\n",
       "    </tr>\n",
       "    <tr>\n",
       "      <th>1064</th>\n",
       "      <td>1065</td>\n",
       "      <td>15699598</td>\n",
       "      <td>Smith</td>\n",
       "      <td>723</td>\n",
       "      <td>France</td>\n",
       "      <td>Female</td>\n",
       "      <td>20</td>\n",
       "      <td>4.0</td>\n",
       "      <td>0.00</td>\n",
       "      <td>2</td>\n",
       "      <td>1</td>\n",
       "      <td>1</td>\n",
       "      <td>140385.33</td>\n",
       "      <td>0</td>\n",
       "    </tr>\n",
       "    <tr>\n",
       "      <th>1756</th>\n",
       "      <td>1757</td>\n",
       "      <td>15670702</td>\n",
       "      <td>Smith</td>\n",
       "      <td>618</td>\n",
       "      <td>France</td>\n",
       "      <td>Male</td>\n",
       "      <td>37</td>\n",
       "      <td>2.0</td>\n",
       "      <td>168178.21</td>\n",
       "      <td>2</td>\n",
       "      <td>0</td>\n",
       "      <td>1</td>\n",
       "      <td>101273.23</td>\n",
       "      <td>0</td>\n",
       "    </tr>\n",
       "    <tr>\n",
       "      <th>2133</th>\n",
       "      <td>2134</td>\n",
       "      <td>15726354</td>\n",
       "      <td>Smith</td>\n",
       "      <td>688</td>\n",
       "      <td>France</td>\n",
       "      <td>Female</td>\n",
       "      <td>32</td>\n",
       "      <td>6.0</td>\n",
       "      <td>123157.95</td>\n",
       "      <td>1</td>\n",
       "      <td>1</td>\n",
       "      <td>0</td>\n",
       "      <td>172531.23</td>\n",
       "      <td>0</td>\n",
       "    </tr>\n",
       "    <tr>\n",
       "      <th>2317</th>\n",
       "      <td>2318</td>\n",
       "      <td>15627212</td>\n",
       "      <td>Smith</td>\n",
       "      <td>630</td>\n",
       "      <td>France</td>\n",
       "      <td>Female</td>\n",
       "      <td>36</td>\n",
       "      <td>NaN</td>\n",
       "      <td>110414.48</td>\n",
       "      <td>1</td>\n",
       "      <td>1</td>\n",
       "      <td>1</td>\n",
       "      <td>48984.95</td>\n",
       "      <td>0</td>\n",
       "    </tr>\n",
       "    <tr>\n",
       "      <th>2541</th>\n",
       "      <td>2542</td>\n",
       "      <td>15679770</td>\n",
       "      <td>Smith</td>\n",
       "      <td>611</td>\n",
       "      <td>France</td>\n",
       "      <td>Female</td>\n",
       "      <td>61</td>\n",
       "      <td>3.0</td>\n",
       "      <td>131583.59</td>\n",
       "      <td>4</td>\n",
       "      <td>0</td>\n",
       "      <td>1</td>\n",
       "      <td>66238.23</td>\n",
       "      <td>1</td>\n",
       "    </tr>\n",
       "    <tr>\n",
       "      <th>3835</th>\n",
       "      <td>3836</td>\n",
       "      <td>15670859</td>\n",
       "      <td>Smith</td>\n",
       "      <td>718</td>\n",
       "      <td>Germany</td>\n",
       "      <td>Female</td>\n",
       "      <td>39</td>\n",
       "      <td>7.0</td>\n",
       "      <td>93148.74</td>\n",
       "      <td>2</td>\n",
       "      <td>1</td>\n",
       "      <td>1</td>\n",
       "      <td>190746.38</td>\n",
       "      <td>0</td>\n",
       "    </tr>\n",
       "    <tr>\n",
       "      <th>4476</th>\n",
       "      <td>4477</td>\n",
       "      <td>15723028</td>\n",
       "      <td>Smith</td>\n",
       "      <td>778</td>\n",
       "      <td>France</td>\n",
       "      <td>Male</td>\n",
       "      <td>33</td>\n",
       "      <td>1.0</td>\n",
       "      <td>0.00</td>\n",
       "      <td>2</td>\n",
       "      <td>1</td>\n",
       "      <td>0</td>\n",
       "      <td>85439.73</td>\n",
       "      <td>0</td>\n",
       "    </tr>\n",
       "    <tr>\n",
       "      <th>5074</th>\n",
       "      <td>5075</td>\n",
       "      <td>15672397</td>\n",
       "      <td>Smith</td>\n",
       "      <td>598</td>\n",
       "      <td>France</td>\n",
       "      <td>Male</td>\n",
       "      <td>38</td>\n",
       "      <td>0.0</td>\n",
       "      <td>125487.89</td>\n",
       "      <td>1</td>\n",
       "      <td>0</td>\n",
       "      <td>0</td>\n",
       "      <td>158111.71</td>\n",
       "      <td>0</td>\n",
       "    </tr>\n",
       "    <tr>\n",
       "      <th>5671</th>\n",
       "      <td>5672</td>\n",
       "      <td>15805104</td>\n",
       "      <td>Smith</td>\n",
       "      <td>743</td>\n",
       "      <td>France</td>\n",
       "      <td>Female</td>\n",
       "      <td>73</td>\n",
       "      <td>6.0</td>\n",
       "      <td>0.00</td>\n",
       "      <td>2</td>\n",
       "      <td>0</td>\n",
       "      <td>1</td>\n",
       "      <td>107867.38</td>\n",
       "      <td>0</td>\n",
       "    </tr>\n",
       "    <tr>\n",
       "      <th>5714</th>\n",
       "      <td>5715</td>\n",
       "      <td>15604158</td>\n",
       "      <td>Smith</td>\n",
       "      <td>554</td>\n",
       "      <td>France</td>\n",
       "      <td>Female</td>\n",
       "      <td>39</td>\n",
       "      <td>10.0</td>\n",
       "      <td>0.00</td>\n",
       "      <td>2</td>\n",
       "      <td>1</td>\n",
       "      <td>1</td>\n",
       "      <td>18391.93</td>\n",
       "      <td>0</td>\n",
       "    </tr>\n",
       "    <tr>\n",
       "      <th>5744</th>\n",
       "      <td>5745</td>\n",
       "      <td>15776850</td>\n",
       "      <td>Smith</td>\n",
       "      <td>749</td>\n",
       "      <td>Spain</td>\n",
       "      <td>Female</td>\n",
       "      <td>43</td>\n",
       "      <td>1.0</td>\n",
       "      <td>124209.02</td>\n",
       "      <td>1</td>\n",
       "      <td>1</td>\n",
       "      <td>1</td>\n",
       "      <td>167179.48</td>\n",
       "      <td>0</td>\n",
       "    </tr>\n",
       "    <tr>\n",
       "      <th>5849</th>\n",
       "      <td>5850</td>\n",
       "      <td>15608873</td>\n",
       "      <td>Smith</td>\n",
       "      <td>665</td>\n",
       "      <td>France</td>\n",
       "      <td>Male</td>\n",
       "      <td>51</td>\n",
       "      <td>2.0</td>\n",
       "      <td>0.00</td>\n",
       "      <td>1</td>\n",
       "      <td>0</td>\n",
       "      <td>0</td>\n",
       "      <td>53353.36</td>\n",
       "      <td>0</td>\n",
       "    </tr>\n",
       "    <tr>\n",
       "      <th>6065</th>\n",
       "      <td>6066</td>\n",
       "      <td>15674720</td>\n",
       "      <td>Smith</td>\n",
       "      <td>691</td>\n",
       "      <td>Germany</td>\n",
       "      <td>Female</td>\n",
       "      <td>37</td>\n",
       "      <td>7.0</td>\n",
       "      <td>123067.63</td>\n",
       "      <td>1</td>\n",
       "      <td>1</td>\n",
       "      <td>1</td>\n",
       "      <td>98162.44</td>\n",
       "      <td>1</td>\n",
       "    </tr>\n",
       "    <tr>\n",
       "      <th>6230</th>\n",
       "      <td>6231</td>\n",
       "      <td>15616954</td>\n",
       "      <td>Smith</td>\n",
       "      <td>592</td>\n",
       "      <td>France</td>\n",
       "      <td>Male</td>\n",
       "      <td>71</td>\n",
       "      <td>4.0</td>\n",
       "      <td>0.00</td>\n",
       "      <td>2</td>\n",
       "      <td>0</td>\n",
       "      <td>1</td>\n",
       "      <td>17013.54</td>\n",
       "      <td>0</td>\n",
       "    </tr>\n",
       "    <tr>\n",
       "      <th>6251</th>\n",
       "      <td>6252</td>\n",
       "      <td>15614520</td>\n",
       "      <td>Smith</td>\n",
       "      <td>682</td>\n",
       "      <td>France</td>\n",
       "      <td>Female</td>\n",
       "      <td>37</td>\n",
       "      <td>8.0</td>\n",
       "      <td>148580.12</td>\n",
       "      <td>1</td>\n",
       "      <td>1</td>\n",
       "      <td>0</td>\n",
       "      <td>35179.18</td>\n",
       "      <td>0</td>\n",
       "    </tr>\n",
       "    <tr>\n",
       "      <th>6284</th>\n",
       "      <td>6285</td>\n",
       "      <td>15623219</td>\n",
       "      <td>Smith</td>\n",
       "      <td>596</td>\n",
       "      <td>France</td>\n",
       "      <td>Male</td>\n",
       "      <td>33</td>\n",
       "      <td>8.0</td>\n",
       "      <td>0.00</td>\n",
       "      <td>1</td>\n",
       "      <td>1</td>\n",
       "      <td>0</td>\n",
       "      <td>121189.30</td>\n",
       "      <td>1</td>\n",
       "    </tr>\n",
       "    <tr>\n",
       "      <th>6304</th>\n",
       "      <td>6305</td>\n",
       "      <td>15653455</td>\n",
       "      <td>Smith</td>\n",
       "      <td>648</td>\n",
       "      <td>France</td>\n",
       "      <td>Female</td>\n",
       "      <td>38</td>\n",
       "      <td>2.0</td>\n",
       "      <td>0.00</td>\n",
       "      <td>2</td>\n",
       "      <td>0</td>\n",
       "      <td>1</td>\n",
       "      <td>9551.49</td>\n",
       "      <td>0</td>\n",
       "    </tr>\n",
       "    <tr>\n",
       "      <th>7017</th>\n",
       "      <td>7018</td>\n",
       "      <td>15767729</td>\n",
       "      <td>Smith</td>\n",
       "      <td>646</td>\n",
       "      <td>Spain</td>\n",
       "      <td>Male</td>\n",
       "      <td>25</td>\n",
       "      <td>5.0</td>\n",
       "      <td>182876.88</td>\n",
       "      <td>2</td>\n",
       "      <td>1</td>\n",
       "      <td>1</td>\n",
       "      <td>42537.59</td>\n",
       "      <td>1</td>\n",
       "    </tr>\n",
       "    <tr>\n",
       "      <th>7213</th>\n",
       "      <td>7214</td>\n",
       "      <td>15623210</td>\n",
       "      <td>Smith</td>\n",
       "      <td>484</td>\n",
       "      <td>Germany</td>\n",
       "      <td>Female</td>\n",
       "      <td>55</td>\n",
       "      <td>8.0</td>\n",
       "      <td>149349.58</td>\n",
       "      <td>3</td>\n",
       "      <td>0</td>\n",
       "      <td>0</td>\n",
       "      <td>137519.92</td>\n",
       "      <td>1</td>\n",
       "    </tr>\n",
       "    <tr>\n",
       "      <th>7270</th>\n",
       "      <td>7271</td>\n",
       "      <td>15706268</td>\n",
       "      <td>Smith</td>\n",
       "      <td>697</td>\n",
       "      <td>Germany</td>\n",
       "      <td>Male</td>\n",
       "      <td>51</td>\n",
       "      <td>1.0</td>\n",
       "      <td>147910.30</td>\n",
       "      <td>1</td>\n",
       "      <td>1</td>\n",
       "      <td>1</td>\n",
       "      <td>53581.14</td>\n",
       "      <td>0</td>\n",
       "    </tr>\n",
       "    <tr>\n",
       "      <th>7338</th>\n",
       "      <td>7339</td>\n",
       "      <td>15796111</td>\n",
       "      <td>Smith</td>\n",
       "      <td>708</td>\n",
       "      <td>Germany</td>\n",
       "      <td>Female</td>\n",
       "      <td>54</td>\n",
       "      <td>8.0</td>\n",
       "      <td>145151.40</td>\n",
       "      <td>1</td>\n",
       "      <td>0</td>\n",
       "      <td>1</td>\n",
       "      <td>125311.17</td>\n",
       "      <td>1</td>\n",
       "    </tr>\n",
       "    <tr>\n",
       "      <th>7539</th>\n",
       "      <td>7540</td>\n",
       "      <td>15609987</td>\n",
       "      <td>Smith</td>\n",
       "      <td>755</td>\n",
       "      <td>France</td>\n",
       "      <td>Male</td>\n",
       "      <td>42</td>\n",
       "      <td>2.0</td>\n",
       "      <td>119919.12</td>\n",
       "      <td>1</td>\n",
       "      <td>1</td>\n",
       "      <td>0</td>\n",
       "      <td>156868.21</td>\n",
       "      <td>0</td>\n",
       "    </tr>\n",
       "    <tr>\n",
       "      <th>7614</th>\n",
       "      <td>7615</td>\n",
       "      <td>15725002</td>\n",
       "      <td>Smith</td>\n",
       "      <td>749</td>\n",
       "      <td>France</td>\n",
       "      <td>Male</td>\n",
       "      <td>37</td>\n",
       "      <td>NaN</td>\n",
       "      <td>0.00</td>\n",
       "      <td>2</td>\n",
       "      <td>1</td>\n",
       "      <td>0</td>\n",
       "      <td>20306.79</td>\n",
       "      <td>0</td>\n",
       "    </tr>\n",
       "    <tr>\n",
       "      <th>7918</th>\n",
       "      <td>7919</td>\n",
       "      <td>15572706</td>\n",
       "      <td>Smith</td>\n",
       "      <td>589</td>\n",
       "      <td>France</td>\n",
       "      <td>Male</td>\n",
       "      <td>37</td>\n",
       "      <td>5.0</td>\n",
       "      <td>0.00</td>\n",
       "      <td>1</td>\n",
       "      <td>1</td>\n",
       "      <td>0</td>\n",
       "      <td>61324.87</td>\n",
       "      <td>0</td>\n",
       "    </tr>\n",
       "    <tr>\n",
       "      <th>8579</th>\n",
       "      <td>8580</td>\n",
       "      <td>15702277</td>\n",
       "      <td>Smith</td>\n",
       "      <td>650</td>\n",
       "      <td>France</td>\n",
       "      <td>Male</td>\n",
       "      <td>34</td>\n",
       "      <td>4.0</td>\n",
       "      <td>106005.54</td>\n",
       "      <td>1</td>\n",
       "      <td>0</td>\n",
       "      <td>1</td>\n",
       "      <td>142995.32</td>\n",
       "      <td>0</td>\n",
       "    </tr>\n",
       "    <tr>\n",
       "      <th>8632</th>\n",
       "      <td>8633</td>\n",
       "      <td>15759690</td>\n",
       "      <td>Smith</td>\n",
       "      <td>751</td>\n",
       "      <td>France</td>\n",
       "      <td>Male</td>\n",
       "      <td>42</td>\n",
       "      <td>4.0</td>\n",
       "      <td>0.00</td>\n",
       "      <td>2</td>\n",
       "      <td>1</td>\n",
       "      <td>1</td>\n",
       "      <td>81442.60</td>\n",
       "      <td>0</td>\n",
       "    </tr>\n",
       "    <tr>\n",
       "      <th>9056</th>\n",
       "      <td>9057</td>\n",
       "      <td>15793311</td>\n",
       "      <td>Smith</td>\n",
       "      <td>765</td>\n",
       "      <td>Germany</td>\n",
       "      <td>Female</td>\n",
       "      <td>46</td>\n",
       "      <td>8.0</td>\n",
       "      <td>119492.88</td>\n",
       "      <td>2</td>\n",
       "      <td>0</td>\n",
       "      <td>1</td>\n",
       "      <td>166896.01</td>\n",
       "      <td>1</td>\n",
       "    </tr>\n",
       "    <tr>\n",
       "      <th>9920</th>\n",
       "      <td>9921</td>\n",
       "      <td>15673020</td>\n",
       "      <td>Smith</td>\n",
       "      <td>678</td>\n",
       "      <td>France</td>\n",
       "      <td>Female</td>\n",
       "      <td>49</td>\n",
       "      <td>3.0</td>\n",
       "      <td>204510.94</td>\n",
       "      <td>1</td>\n",
       "      <td>0</td>\n",
       "      <td>1</td>\n",
       "      <td>738.88</td>\n",
       "      <td>1</td>\n",
       "    </tr>\n",
       "    <tr>\n",
       "      <th>9975</th>\n",
       "      <td>9976</td>\n",
       "      <td>15666295</td>\n",
       "      <td>Smith</td>\n",
       "      <td>610</td>\n",
       "      <td>Germany</td>\n",
       "      <td>Male</td>\n",
       "      <td>50</td>\n",
       "      <td>1.0</td>\n",
       "      <td>113957.01</td>\n",
       "      <td>2</td>\n",
       "      <td>1</td>\n",
       "      <td>0</td>\n",
       "      <td>196526.55</td>\n",
       "      <td>1</td>\n",
       "    </tr>\n",
       "  </tbody>\n",
       "</table>\n",
       "</div>"
      ],
      "text/plain": [
       "      RowNumber  CustomerId Surname  CreditScore Geography  Gender  Age  \\\n",
       "234         235    15704769   Smith          585    France  Female   67   \n",
       "479         480    15797736   Smith          658    France    Male   29   \n",
       "745         746    15640059   Smith          606    France    Male   40   \n",
       "1064       1065    15699598   Smith          723    France  Female   20   \n",
       "1756       1757    15670702   Smith          618    France    Male   37   \n",
       "2133       2134    15726354   Smith          688    France  Female   32   \n",
       "2317       2318    15627212   Smith          630    France  Female   36   \n",
       "2541       2542    15679770   Smith          611    France  Female   61   \n",
       "3835       3836    15670859   Smith          718   Germany  Female   39   \n",
       "4476       4477    15723028   Smith          778    France    Male   33   \n",
       "5074       5075    15672397   Smith          598    France    Male   38   \n",
       "5671       5672    15805104   Smith          743    France  Female   73   \n",
       "5714       5715    15604158   Smith          554    France  Female   39   \n",
       "5744       5745    15776850   Smith          749     Spain  Female   43   \n",
       "5849       5850    15608873   Smith          665    France    Male   51   \n",
       "6065       6066    15674720   Smith          691   Germany  Female   37   \n",
       "6230       6231    15616954   Smith          592    France    Male   71   \n",
       "6251       6252    15614520   Smith          682    France  Female   37   \n",
       "6284       6285    15623219   Smith          596    France    Male   33   \n",
       "6304       6305    15653455   Smith          648    France  Female   38   \n",
       "7017       7018    15767729   Smith          646     Spain    Male   25   \n",
       "7213       7214    15623210   Smith          484   Germany  Female   55   \n",
       "7270       7271    15706268   Smith          697   Germany    Male   51   \n",
       "7338       7339    15796111   Smith          708   Germany  Female   54   \n",
       "7539       7540    15609987   Smith          755    France    Male   42   \n",
       "7614       7615    15725002   Smith          749    France    Male   37   \n",
       "7918       7919    15572706   Smith          589    France    Male   37   \n",
       "8579       8580    15702277   Smith          650    France    Male   34   \n",
       "8632       8633    15759690   Smith          751    France    Male   42   \n",
       "9056       9057    15793311   Smith          765   Germany  Female   46   \n",
       "9920       9921    15673020   Smith          678    France  Female   49   \n",
       "9975       9976    15666295   Smith          610   Germany    Male   50   \n",
       "\n",
       "      Tenure    Balance  NumOfProducts  HasCrCard  IsActiveMember  \\\n",
       "234      5.0  113978.97              2          0               1   \n",
       "479      4.0   80262.60              1          1               1   \n",
       "745      5.0       0.00              2          1               1   \n",
       "1064     4.0       0.00              2          1               1   \n",
       "1756     2.0  168178.21              2          0               1   \n",
       "2133     6.0  123157.95              1          1               0   \n",
       "2317     NaN  110414.48              1          1               1   \n",
       "2541     3.0  131583.59              4          0               1   \n",
       "3835     7.0   93148.74              2          1               1   \n",
       "4476     1.0       0.00              2          1               0   \n",
       "5074     0.0  125487.89              1          0               0   \n",
       "5671     6.0       0.00              2          0               1   \n",
       "5714    10.0       0.00              2          1               1   \n",
       "5744     1.0  124209.02              1          1               1   \n",
       "5849     2.0       0.00              1          0               0   \n",
       "6065     7.0  123067.63              1          1               1   \n",
       "6230     4.0       0.00              2          0               1   \n",
       "6251     8.0  148580.12              1          1               0   \n",
       "6284     8.0       0.00              1          1               0   \n",
       "6304     2.0       0.00              2          0               1   \n",
       "7017     5.0  182876.88              2          1               1   \n",
       "7213     8.0  149349.58              3          0               0   \n",
       "7270     1.0  147910.30              1          1               1   \n",
       "7338     8.0  145151.40              1          0               1   \n",
       "7539     2.0  119919.12              1          1               0   \n",
       "7614     NaN       0.00              2          1               0   \n",
       "7918     5.0       0.00              1          1               0   \n",
       "8579     4.0  106005.54              1          0               1   \n",
       "8632     4.0       0.00              2          1               1   \n",
       "9056     8.0  119492.88              2          0               1   \n",
       "9920     3.0  204510.94              1          0               1   \n",
       "9975     1.0  113957.01              2          1               0   \n",
       "\n",
       "      EstimatedSalary  Exited  \n",
       "234          93146.11       0  \n",
       "479          20612.82       0  \n",
       "745          70899.27       0  \n",
       "1064        140385.33       0  \n",
       "1756        101273.23       0  \n",
       "2133        172531.23       0  \n",
       "2317         48984.95       0  \n",
       "2541         66238.23       1  \n",
       "3835        190746.38       0  \n",
       "4476         85439.73       0  \n",
       "5074        158111.71       0  \n",
       "5671        107867.38       0  \n",
       "5714         18391.93       0  \n",
       "5744        167179.48       0  \n",
       "5849         53353.36       0  \n",
       "6065         98162.44       1  \n",
       "6230         17013.54       0  \n",
       "6251         35179.18       0  \n",
       "6284        121189.30       1  \n",
       "6304          9551.49       0  \n",
       "7017         42537.59       1  \n",
       "7213        137519.92       1  \n",
       "7270         53581.14       0  \n",
       "7338        125311.17       1  \n",
       "7539        156868.21       0  \n",
       "7614         20306.79       0  \n",
       "7918         61324.87       0  \n",
       "8579        142995.32       0  \n",
       "8632         81442.60       0  \n",
       "9056        166896.01       1  \n",
       "9920           738.88       1  \n",
       "9975        196526.55       1  "
      ]
     },
     "execution_count": 10,
     "metadata": {},
     "output_type": "execute_result"
    }
   ],
   "source": [
    "df.query('Surname == \"Smith\"')"
   ]
  },
  {
   "cell_type": "markdown",
   "id": "ad607419",
   "metadata": {},
   "source": [
    "При фильтрации объектов по фамилии Smith повторения данных не обнаружено. Значит, мы действительно имеем дело с 10 тыс. уникальными объектами.\n",
    "\n",
    "\n",
    "Для обучения модели для решения задачи на основе данных о поведение клиента данные о номере строки, уникальном номере клиента или его фамилии (может ли быть что от услуг банка оказываются Смиты?) не нужны, в дальнейшем эти столбцы будут удалены."
   ]
  },
  {
   "cell_type": "markdown",
   "id": "39266287",
   "metadata": {},
   "source": [
    "Посмотрим уникальные значения других признаков с категориальными переменными:"
   ]
  },
  {
   "cell_type": "code",
   "execution_count": 11,
   "id": "0eb03ec9",
   "metadata": {},
   "outputs": [
    {
     "data": {
      "text/plain": [
       "array(['Female', 'Male'], dtype=object)"
      ]
     },
     "execution_count": 11,
     "metadata": {},
     "output_type": "execute_result"
    }
   ],
   "source": [
    "df['Gender'].unique()"
   ]
  },
  {
   "cell_type": "code",
   "execution_count": 12,
   "id": "5abdeb3d",
   "metadata": {
    "scrolled": true
   },
   "outputs": [
    {
     "data": {
      "text/plain": [
       "array(['France', 'Spain', 'Germany'], dtype=object)"
      ]
     },
     "execution_count": 12,
     "metadata": {},
     "output_type": "execute_result"
    }
   ],
   "source": [
    "df['Geography'].unique()"
   ]
  },
  {
   "cell_type": "markdown",
   "id": "5ab3009d",
   "metadata": {},
   "source": [
    "В остальных категориальных значениях проблем и ошибок нет."
   ]
  },
  {
   "cell_type": "markdown",
   "id": "7cd98aef",
   "metadata": {},
   "source": [
    "### Изучение пропусков"
   ]
  },
  {
   "cell_type": "code",
   "execution_count": 13,
   "id": "3cf2940f",
   "metadata": {},
   "outputs": [
    {
     "data": {
      "text/plain": [
       "9.09"
      ]
     },
     "execution_count": 13,
     "metadata": {},
     "output_type": "execute_result"
    }
   ],
   "source": [
    "# проанализируем количество пропусков в столбце `Tenure`:\n",
    "df['Tenure'].isna().sum()/df.shape[0]*100"
   ]
  },
  {
   "cell_type": "markdown",
   "id": "31c153b4",
   "metadata": {},
   "source": [
    "В датасете в колонке `Tenure` - сколько лет человек является клиентом банка - пропущено порядка 9% данных. \n",
    "\n",
    "Данные о сроке пользования услугами банка могут иметь важное значение для предсказания отказа от услуг банка. К сожалению, представленные данные не позволяют вычислить сколь нибудь близко к правде это число лет для пропущенных значений, а заполенение средним или медианой может неправильно обучить модель. Доля пропущенных значений ниже 10%, поэтому для дальнейшего использования объекты с пропусками информации о сроке обслуживания в банке будут удалены из данных."
   ]
  },
  {
   "cell_type": "code",
   "execution_count": 14,
   "id": "09f47fad",
   "metadata": {},
   "outputs": [],
   "source": [
    "# пустных строк меньше 10 %, удалим из датасета строки с пустыми значениями в столбце:\n",
    "df = df.dropna(subset = ['Tenure'], axis=0)"
   ]
  },
  {
   "cell_type": "markdown",
   "id": "2ab2c1e2",
   "metadata": {},
   "source": [
    "### Анализ количественных переменных"
   ]
  },
  {
   "cell_type": "markdown",
   "id": "0165d3ed",
   "metadata": {},
   "source": [
    "Теперь проанализируем количественные переменные в признаках, предварительно удалив ненужные столбцы `RowNumber`, `CustomerId`, `Surname`. Сохраним новый датасет в переменную __df_ml__."
   ]
  },
  {
   "cell_type": "code",
   "execution_count": 15,
   "id": "513a14b1",
   "metadata": {
    "scrolled": true
   },
   "outputs": [],
   "source": [
    "df_ml = df.drop(columns = ['Surname', 'CustomerId','RowNumber'], axis=1)"
   ]
  },
  {
   "cell_type": "code",
   "execution_count": 16,
   "id": "48ca95a7",
   "metadata": {},
   "outputs": [
    {
     "data": {
      "text/html": [
       "<div>\n",
       "<style scoped>\n",
       "    .dataframe tbody tr th:only-of-type {\n",
       "        vertical-align: middle;\n",
       "    }\n",
       "\n",
       "    .dataframe tbody tr th {\n",
       "        vertical-align: top;\n",
       "    }\n",
       "\n",
       "    .dataframe thead th {\n",
       "        text-align: right;\n",
       "    }\n",
       "</style>\n",
       "<table border=\"1\" class=\"dataframe\">\n",
       "  <thead>\n",
       "    <tr style=\"text-align: right;\">\n",
       "      <th></th>\n",
       "      <th>CreditScore</th>\n",
       "      <th>Age</th>\n",
       "      <th>Tenure</th>\n",
       "      <th>Balance</th>\n",
       "      <th>NumOfProducts</th>\n",
       "      <th>HasCrCard</th>\n",
       "      <th>IsActiveMember</th>\n",
       "      <th>EstimatedSalary</th>\n",
       "      <th>Exited</th>\n",
       "    </tr>\n",
       "  </thead>\n",
       "  <tbody>\n",
       "    <tr>\n",
       "      <th>count</th>\n",
       "      <td>9091.000000</td>\n",
       "      <td>9091.000000</td>\n",
       "      <td>9091.000000</td>\n",
       "      <td>9091.000000</td>\n",
       "      <td>9091.000000</td>\n",
       "      <td>9091.000000</td>\n",
       "      <td>9091.000000</td>\n",
       "      <td>9091.000000</td>\n",
       "      <td>9091.000000</td>\n",
       "    </tr>\n",
       "    <tr>\n",
       "      <th>mean</th>\n",
       "      <td>650.736553</td>\n",
       "      <td>38.949181</td>\n",
       "      <td>4.997690</td>\n",
       "      <td>76522.740015</td>\n",
       "      <td>1.530195</td>\n",
       "      <td>0.704983</td>\n",
       "      <td>0.515565</td>\n",
       "      <td>100181.214924</td>\n",
       "      <td>0.203938</td>\n",
       "    </tr>\n",
       "    <tr>\n",
       "      <th>std</th>\n",
       "      <td>96.410471</td>\n",
       "      <td>10.555581</td>\n",
       "      <td>2.894723</td>\n",
       "      <td>62329.528576</td>\n",
       "      <td>0.581003</td>\n",
       "      <td>0.456076</td>\n",
       "      <td>0.499785</td>\n",
       "      <td>57624.755647</td>\n",
       "      <td>0.402946</td>\n",
       "    </tr>\n",
       "    <tr>\n",
       "      <th>min</th>\n",
       "      <td>350.000000</td>\n",
       "      <td>18.000000</td>\n",
       "      <td>0.000000</td>\n",
       "      <td>0.000000</td>\n",
       "      <td>1.000000</td>\n",
       "      <td>0.000000</td>\n",
       "      <td>0.000000</td>\n",
       "      <td>11.580000</td>\n",
       "      <td>0.000000</td>\n",
       "    </tr>\n",
       "    <tr>\n",
       "      <th>25%</th>\n",
       "      <td>584.000000</td>\n",
       "      <td>32.000000</td>\n",
       "      <td>2.000000</td>\n",
       "      <td>0.000000</td>\n",
       "      <td>1.000000</td>\n",
       "      <td>0.000000</td>\n",
       "      <td>0.000000</td>\n",
       "      <td>51227.745000</td>\n",
       "      <td>0.000000</td>\n",
       "    </tr>\n",
       "    <tr>\n",
       "      <th>50%</th>\n",
       "      <td>652.000000</td>\n",
       "      <td>37.000000</td>\n",
       "      <td>5.000000</td>\n",
       "      <td>97318.250000</td>\n",
       "      <td>1.000000</td>\n",
       "      <td>1.000000</td>\n",
       "      <td>1.000000</td>\n",
       "      <td>100240.200000</td>\n",
       "      <td>0.000000</td>\n",
       "    </tr>\n",
       "    <tr>\n",
       "      <th>75%</th>\n",
       "      <td>717.000000</td>\n",
       "      <td>44.000000</td>\n",
       "      <td>7.000000</td>\n",
       "      <td>127561.890000</td>\n",
       "      <td>2.000000</td>\n",
       "      <td>1.000000</td>\n",
       "      <td>1.000000</td>\n",
       "      <td>149567.210000</td>\n",
       "      <td>0.000000</td>\n",
       "    </tr>\n",
       "    <tr>\n",
       "      <th>max</th>\n",
       "      <td>850.000000</td>\n",
       "      <td>92.000000</td>\n",
       "      <td>10.000000</td>\n",
       "      <td>250898.090000</td>\n",
       "      <td>4.000000</td>\n",
       "      <td>1.000000</td>\n",
       "      <td>1.000000</td>\n",
       "      <td>199992.480000</td>\n",
       "      <td>1.000000</td>\n",
       "    </tr>\n",
       "  </tbody>\n",
       "</table>\n",
       "</div>"
      ],
      "text/plain": [
       "       CreditScore          Age       Tenure        Balance  NumOfProducts  \\\n",
       "count  9091.000000  9091.000000  9091.000000    9091.000000    9091.000000   \n",
       "mean    650.736553    38.949181     4.997690   76522.740015       1.530195   \n",
       "std      96.410471    10.555581     2.894723   62329.528576       0.581003   \n",
       "min     350.000000    18.000000     0.000000       0.000000       1.000000   \n",
       "25%     584.000000    32.000000     2.000000       0.000000       1.000000   \n",
       "50%     652.000000    37.000000     5.000000   97318.250000       1.000000   \n",
       "75%     717.000000    44.000000     7.000000  127561.890000       2.000000   \n",
       "max     850.000000    92.000000    10.000000  250898.090000       4.000000   \n",
       "\n",
       "         HasCrCard  IsActiveMember  EstimatedSalary       Exited  \n",
       "count  9091.000000     9091.000000      9091.000000  9091.000000  \n",
       "mean      0.704983        0.515565    100181.214924     0.203938  \n",
       "std       0.456076        0.499785     57624.755647     0.402946  \n",
       "min       0.000000        0.000000        11.580000     0.000000  \n",
       "25%       0.000000        0.000000     51227.745000     0.000000  \n",
       "50%       1.000000        1.000000    100240.200000     0.000000  \n",
       "75%       1.000000        1.000000    149567.210000     0.000000  \n",
       "max       1.000000        1.000000    199992.480000     1.000000  "
      ]
     },
     "execution_count": 16,
     "metadata": {},
     "output_type": "execute_result"
    }
   ],
   "source": [
    "df_ml.describe()"
   ]
  },
  {
   "cell_type": "code",
   "execution_count": 17,
   "id": "f03df02f",
   "metadata": {},
   "outputs": [
    {
     "data": {
      "text/plain": [
       "array([[<AxesSubplot:title={'center':'CreditScore'}>,\n",
       "        <AxesSubplot:title={'center':'Age'}>,\n",
       "        <AxesSubplot:title={'center':'Tenure'}>],\n",
       "       [<AxesSubplot:title={'center':'Balance'}>,\n",
       "        <AxesSubplot:title={'center':'NumOfProducts'}>,\n",
       "        <AxesSubplot:title={'center':'HasCrCard'}>],\n",
       "       [<AxesSubplot:title={'center':'IsActiveMember'}>,\n",
       "        <AxesSubplot:title={'center':'EstimatedSalary'}>,\n",
       "        <AxesSubplot:title={'center':'Exited'}>]], dtype=object)"
      ]
     },
     "execution_count": 17,
     "metadata": {},
     "output_type": "execute_result"
    },
    {
     "data": {
      "image/png": "[encoded data removed]",
      "text/plain": [
       "<Figure size 1500x1500 with 9 Axes>"
      ]
     },
     "metadata": {},
     "output_type": "display_data"
    }
   ],
   "source": [
    "df_ml.hist(figsize = (15,15))"
   ]
  },
  {
   "cell_type": "markdown",
   "id": "38c24196",
   "metadata": {},
   "source": [
    "Выводы о распределении количественных переменных в датасете:\n",
    "\n",
    "\n",
    "Распределение данных о кредитном рейтинге и возрасте клиентов банка вопросов не вызывает. \n",
    "\n",
    "Данные о зарплате распределены совершенно равномерно, что странно, но возможно именно одинаковое количество клиентов из каждой группы, разделенной по уровню зарплаты, выбраны специально для проведения исследования. \n",
    "\n",
    "Интересное наблюдение - большая часть клиентов пользуется услугами банка довольно продолжительное время - больше двух лет.\n",
    "\n",
    "Странным выглядит распределение данных о балансе на счетах и активности клиентов - более чем у 3,5 тыс. клиентов баланс равен 0, и почти 5 тыс. клиентов не являются активными пользователями, при том что все клиенты пользуются хотя бы одной услугой банка. Для менеджеров банка есть повод проанализировать такую ситуации и разобраться в ее причинах. В рамках настоящего исследования я продолжу работать с имеющимися данными.\n",
    "\n",
    "Как видно из анализа, порядка 20% клиентов отказываются от услуг банка. "
   ]
  },
  {
   "cell_type": "markdown",
   "id": "cc04e6b5",
   "metadata": {},
   "source": [
    "Столбец `Exited` является целевым признаком для модели, классы целевого признака соответствуют:\n",
    "* \"0\" - человек остался клиентом банка (отрицательный)\n",
    "* \"1\" - человек отказался от услуг банка (положительный)"
   ]
  },
  {
   "cell_type": "code",
   "execution_count": 18,
   "id": "eb4a4ba4",
   "metadata": {},
   "outputs": [
    {
     "data": {
      "text/plain": [
       "0    0.796062\n",
       "1    0.203938\n",
       "Name: Exited, dtype: float64"
      ]
     },
     "execution_count": 18,
     "metadata": {},
     "output_type": "execute_result"
    }
   ],
   "source": [
    "# посмотрим как распределены классы целевого признака `Exited`:\n",
    "df_ml['Exited'].value_counts(normalize=True)"
   ]
  },
  {
   "cell_type": "markdown",
   "id": "d7ff3167",
   "metadata": {},
   "source": [
    "Наблюдается значительный дисбаланс классов, доля отрицательных ответов преобладает и составляет порядка 80%."
   ]
  },
  {
   "cell_type": "code",
   "execution_count": 19,
   "id": "74235bcf",
   "metadata": {},
   "outputs": [
    {
     "name": "stdout",
     "output_type": "stream",
     "text": [
      "<class 'pandas.core.frame.DataFrame'>\n",
      "Int64Index: 9091 entries, 0 to 9998\n",
      "Data columns (total 14 columns):\n",
      " #   Column           Non-Null Count  Dtype  \n",
      "---  ------           --------------  -----  \n",
      " 0   RowNumber        9091 non-null   int64  \n",
      " 1   CustomerId       9091 non-null   int64  \n",
      " 2   Surname          9091 non-null   object \n",
      " 3   CreditScore      9091 non-null   int64  \n",
      " 4   Geography        9091 non-null   object \n",
      " 5   Gender           9091 non-null   object \n",
      " 6   Age              9091 non-null   int64  \n",
      " 7   Tenure           9091 non-null   float64\n",
      " 8   Balance          9091 non-null   float64\n",
      " 9   NumOfProducts    9091 non-null   int64  \n",
      " 10  HasCrCard        9091 non-null   int64  \n",
      " 11  IsActiveMember   9091 non-null   int64  \n",
      " 12  EstimatedSalary  9091 non-null   float64\n",
      " 13  Exited           9091 non-null   int64  \n",
      "dtypes: float64(3), int64(8), object(3)\n",
      "memory usage: 1.0+ MB\n"
     ]
    }
   ],
   "source": [
    "# проверим информацию о датасете перед исследованием:\n",
    "df.info()"
   ]
  },
  {
   "cell_type": "markdown",
   "id": "35c8d6d7",
   "metadata": {},
   "source": [
    "Данные готовы к дальнейшему исследованию."
   ]
  },
  {
   "cell_type": "markdown",
   "id": "ebaffc15",
   "metadata": {},
   "source": [
    "## Подготовка данных к исследованию"
   ]
  },
  {
   "cell_type": "markdown",
   "id": "06b472b7",
   "metadata": {},
   "source": [
    "### Разделение на признаки и целевой признак, тренировочную и валидационную выборки"
   ]
  },
  {
   "cell_type": "code",
   "execution_count": 20,
   "id": "d0c5b267",
   "metadata": {},
   "outputs": [],
   "source": [
    "# после кодирования подготовим данные для построения модели: выделим признаки features и целевой признак target:\n",
    "features = df_ml.drop(['Exited'], axis=1)\n",
    "target = df_ml['Exited']"
   ]
  },
  {
   "cell_type": "code",
   "execution_count": 21,
   "id": "df81e639",
   "metadata": {},
   "outputs": [],
   "source": [
    "# тепереь разделим данные на тренировочную, валидационную и тестовую выборку:\n",
    "features_train, features_valid, target_train, target_valid = \\\n",
    "train_test_split(features, target, test_size=0.4, stratify=target, random_state=12345)\n",
    "\n",
    "features_valid, features_test, target_valid, target_test = \\\n",
    "train_test_split(features_valid, target_valid, test_size=0.5, stratify=target_valid, random_state=12345)"
   ]
  },
  {
   "cell_type": "code",
   "execution_count": 22,
   "id": "285bd1a2",
   "metadata": {},
   "outputs": [
    {
     "data": {
      "text/plain": [
       "(5454, 10)"
      ]
     },
     "execution_count": 22,
     "metadata": {},
     "output_type": "execute_result"
    }
   ],
   "source": [
    "# проверим размер тренировочной выборки:\n",
    "features_train.shape"
   ]
  },
  {
   "cell_type": "code",
   "execution_count": 23,
   "id": "15395f6d",
   "metadata": {},
   "outputs": [
    {
     "data": {
      "text/plain": [
       "(1818, 10)"
      ]
     },
     "execution_count": 23,
     "metadata": {},
     "output_type": "execute_result"
    }
   ],
   "source": [
    "# проверим размер валидационной выборки:\n",
    "features_valid.shape"
   ]
  },
  {
   "cell_type": "code",
   "execution_count": 24,
   "id": "c25630bc",
   "metadata": {},
   "outputs": [
    {
     "data": {
      "text/plain": [
       "(1819, 10)"
      ]
     },
     "execution_count": 24,
     "metadata": {},
     "output_type": "execute_result"
    }
   ],
   "source": [
    "# проверим размер тестовой выборки:\n",
    "features_test.shape"
   ]
  },
  {
   "cell_type": "markdown",
   "id": "5aa8839b",
   "metadata": {},
   "source": [
    "### Прямое кодирование"
   ]
  },
  {
   "cell_type": "markdown",
   "id": "af586a21",
   "metadata": {},
   "source": [
    "Обучить модель на данных, содержащих категориальные признаки невозможно. Проведем прямое кодирование категориальных объектов методом OHE, присвоив им числовые значения."
   ]
  },
  {
   "cell_type": "code",
   "execution_count": 25,
   "id": "31380c5a",
   "metadata": {},
   "outputs": [],
   "source": [
    "# перечислим категориальные признаки, к которым будем применять OneHotЕncoder:\n",
    "ohe_features = ['Geography', 'Gender']"
   ]
  },
  {
   "cell_type": "code",
   "execution_count": 26,
   "id": "4c5a1470",
   "metadata": {},
   "outputs": [
    {
     "data": {
      "text/html": [
       "<style>#sk-container-id-1 {color: black;background-color: white;}#sk-container-id-1 pre{padding: 0;}#sk-container-id-1 div.sk-toggleable {background-color: white;}#sk-container-id-1 label.sk-toggleable__label {cursor: pointer;display: block;width: 100%;margin-bottom: 0;padding: 0.3em;box-sizing: border-box;text-align: center;}#sk-container-id-1 label.sk-toggleable__label-arrow:before {content: \"▸\";float: left;margin-right: 0.25em;color: #696969;}#sk-container-id-1 label.sk-toggleable__label-arrow:hover:before {color: black;}#sk-container-id-1 div.sk-estimator:hover label.sk-toggleable__label-arrow:before {color: black;}#sk-container-id-1 div.sk-toggleable__content {max-height: 0;max-width: 0;overflow: hidden;text-align: left;background-color: #f0f8ff;}#sk-container-id-1 div.sk-toggleable__content pre {margin: 0.2em;color: black;border-radius: 0.25em;background-color: #f0f8ff;}#sk-container-id-1 input.sk-toggleable__control:checked~div.sk-toggleable__content {max-height: 200px;max-width: 100%;overflow: auto;}#sk-container-id-1 input.sk-toggleable__control:checked~label.sk-toggleable__label-arrow:before {content: \"▾\";}#sk-container-id-1 div.sk-estimator input.sk-toggleable__control:checked~label.sk-toggleable__label {background-color: #d4ebff;}#sk-container-id-1 div.sk-label input.sk-toggleable__control:checked~label.sk-toggleable__label {background-color: #d4ebff;}#sk-container-id-1 input.sk-hidden--visually {border: 0;clip: rect(1px 1px 1px 1px);clip: rect(1px, 1px, 1px, 1px);height: 1px;margin: -1px;overflow: hidden;padding: 0;position: absolute;width: 1px;}#sk-container-id-1 div.sk-estimator {font-family: monospace;background-color: #f0f8ff;border: 1px dotted black;border-radius: 0.25em;box-sizing: border-box;margin-bottom: 0.5em;}#sk-container-id-1 div.sk-estimator:hover {background-color: #d4ebff;}#sk-container-id-1 div.sk-parallel-item::after {content: \"\";width: 100%;border-bottom: 1px solid gray;flex-grow: 1;}#sk-container-id-1 div.sk-label:hover label.sk-toggleable__label {background-color: #d4ebff;}#sk-container-id-1 div.sk-serial::before {content: \"\";position: absolute;border-left: 1px solid gray;box-sizing: border-box;top: 0;bottom: 0;left: 50%;z-index: 0;}#sk-container-id-1 div.sk-serial {display: flex;flex-direction: column;align-items: center;background-color: white;padding-right: 0.2em;padding-left: 0.2em;position: relative;}#sk-container-id-1 div.sk-item {position: relative;z-index: 1;}#sk-container-id-1 div.sk-parallel {display: flex;align-items: stretch;justify-content: center;background-color: white;position: relative;}#sk-container-id-1 div.sk-item::before, #sk-container-id-1 div.sk-parallel-item::before {content: \"\";position: absolute;border-left: 1px solid gray;box-sizing: border-box;top: 0;bottom: 0;left: 50%;z-index: -1;}#sk-container-id-1 div.sk-parallel-item {display: flex;flex-direction: column;z-index: 1;position: relative;background-color: white;}#sk-container-id-1 div.sk-parallel-item:first-child::after {align-self: flex-end;width: 50%;}#sk-container-id-1 div.sk-parallel-item:last-child::after {align-self: flex-start;width: 50%;}#sk-container-id-1 div.sk-parallel-item:only-child::after {width: 0;}#sk-container-id-1 div.sk-dashed-wrapped {border: 1px dashed gray;margin: 0 0.4em 0.5em 0.4em;box-sizing: border-box;padding-bottom: 0.4em;background-color: white;}#sk-container-id-1 div.sk-label label {font-family: monospace;font-weight: bold;display: inline-block;line-height: 1.2em;}#sk-container-id-1 div.sk-label-container {text-align: center;}#sk-container-id-1 div.sk-container {/* jupyter's `normalize.less` sets `[hidden] { display: none; }` but bootstrap.min.css set `[hidden] { display: none !important; }` so we also need the `!important` here to be able to override the default hidden behavior on the sphinx rendered scikit-learn.org. See: https://github.com/scikit-learn/scikit-learn/issues/21755 */display: inline-block !important;position: relative;}#sk-container-id-1 div.sk-text-repr-fallback {display: none;}</style><div id=\"sk-container-id-1\" class=\"sk-top-container\"><div class=\"sk-text-repr-fallback\"><pre>OneHotEncoder(drop=&#x27;first&#x27;, handle_unknown=&#x27;ignore&#x27;, sparse=False,\n",
       "              sparse_output=False)</pre><b>In a Jupyter environment, please rerun this cell to show the HTML representation or trust the notebook. <br />On GitHub, the HTML representation is unable to render, please try loading this page with nbviewer.org.</b></div><div class=\"sk-container\" hidden><div class=\"sk-item\"><div class=\"sk-estimator sk-toggleable\"><input class=\"sk-toggleable__control sk-hidden--visually\" id=\"sk-estimator-id-1\" type=\"checkbox\" checked><label for=\"sk-estimator-id-1\" class=\"sk-toggleable__label sk-toggleable__label-arrow\">OneHotEncoder</label><div class=\"sk-toggleable__content\"><pre>OneHotEncoder(drop=&#x27;first&#x27;, handle_unknown=&#x27;ignore&#x27;, sparse=False,\n",
       "              sparse_output=False)</pre></div></div></div></div></div>"
      ],
      "text/plain": [
       "OneHotEncoder(drop='first', handle_unknown='ignore', sparse=False,\n",
       "              sparse_output=False)"
      ]
     },
     "execution_count": 26,
     "metadata": {},
     "output_type": "execute_result"
    }
   ],
   "source": [
    "# применим к ним объект OneHotEncoder:\n",
    "one_encoder = OneHotEncoder(drop='first', handle_unknown='ignore', sparse=False)\n",
    "one_encoder.fit(features_train[ohe_features])"
   ]
  },
  {
   "cell_type": "code",
   "execution_count": 27,
   "id": "2d6008dc",
   "metadata": {
    "scrolled": true
   },
   "outputs": [],
   "source": [
    "# проведем кодирование для признаков тренировочной, валидационной и тестовой выборок:\n",
    "features_train[one_encoder.get_feature_names_out()] = one_encoder.transform(features_train[ohe_features])\n",
    "features_valid[one_encoder.get_feature_names_out()] = one_encoder.transform(features_valid[ohe_features])\n",
    "features_test[one_encoder.get_feature_names_out()] = one_encoder.transform(features_test[ohe_features])"
   ]
  },
  {
   "cell_type": "code",
   "execution_count": 28,
   "id": "04afe4d4",
   "metadata": {},
   "outputs": [],
   "source": [
    "# удалим ненужные колонки, содержащие категориальные признаки\n",
    "features_train = features_train.drop(ohe_features, axis=1)\n",
    "features_valid = features_valid.drop(ohe_features, axis=1)\n",
    "features_test = features_test.drop(ohe_features, axis=1)"
   ]
  },
  {
   "cell_type": "code",
   "execution_count": 70,
   "id": "9427d424",
   "metadata": {},
   "outputs": [
    {
     "data": {
      "text/html": [
       "<div>\n",
       "<style scoped>\n",
       "    .dataframe tbody tr th:only-of-type {\n",
       "        vertical-align: middle;\n",
       "    }\n",
       "\n",
       "    .dataframe tbody tr th {\n",
       "        vertical-align: top;\n",
       "    }\n",
       "\n",
       "    .dataframe thead th {\n",
       "        text-align: right;\n",
       "    }\n",
       "</style>\n",
       "<table border=\"1\" class=\"dataframe\">\n",
       "  <thead>\n",
       "    <tr style=\"text-align: right;\">\n",
       "      <th></th>\n",
       "      <th>CreditScore</th>\n",
       "      <th>Age</th>\n",
       "      <th>Tenure</th>\n",
       "      <th>Balance</th>\n",
       "      <th>NumOfProducts</th>\n",
       "      <th>HasCrCard</th>\n",
       "      <th>IsActiveMember</th>\n",
       "      <th>EstimatedSalary</th>\n",
       "      <th>Geography_Germany</th>\n",
       "      <th>Geography_Spain</th>\n",
       "      <th>Gender_Male</th>\n",
       "    </tr>\n",
       "  </thead>\n",
       "  <tbody>\n",
       "    <tr>\n",
       "      <th>9723</th>\n",
       "      <td>-1.292898</td>\n",
       "      <td>-0.660843</td>\n",
       "      <td>0.686341</td>\n",
       "      <td>0.786636</td>\n",
       "      <td>-0.910943</td>\n",
       "      <td>-1.554765</td>\n",
       "      <td>-1.036226</td>\n",
       "      <td>-0.223548</td>\n",
       "      <td>0.0</td>\n",
       "      <td>0.0</td>\n",
       "      <td>1.0</td>\n",
       "    </tr>\n",
       "    <tr>\n",
       "      <th>1224</th>\n",
       "      <td>-1.563714</td>\n",
       "      <td>0.778434</td>\n",
       "      <td>1.034232</td>\n",
       "      <td>0.833795</td>\n",
       "      <td>-0.910943</td>\n",
       "      <td>0.643184</td>\n",
       "      <td>-1.036226</td>\n",
       "      <td>1.383021</td>\n",
       "      <td>0.0</td>\n",
       "      <td>1.0</td>\n",
       "      <td>0.0</td>\n",
       "    </tr>\n",
       "    <tr>\n",
       "      <th>8377</th>\n",
       "      <td>1.581914</td>\n",
       "      <td>0.106771</td>\n",
       "      <td>-0.357331</td>\n",
       "      <td>-1.222967</td>\n",
       "      <td>0.789359</td>\n",
       "      <td>0.643184</td>\n",
       "      <td>0.965040</td>\n",
       "      <td>-0.308331</td>\n",
       "      <td>0.0</td>\n",
       "      <td>1.0</td>\n",
       "      <td>1.0</td>\n",
       "    </tr>\n",
       "    <tr>\n",
       "      <th>8014</th>\n",
       "      <td>0.842379</td>\n",
       "      <td>0.010820</td>\n",
       "      <td>-1.053112</td>\n",
       "      <td>0.807063</td>\n",
       "      <td>-0.910943</td>\n",
       "      <td>0.643184</td>\n",
       "      <td>0.965040</td>\n",
       "      <td>-0.430980</td>\n",
       "      <td>0.0</td>\n",
       "      <td>1.0</td>\n",
       "      <td>0.0</td>\n",
       "    </tr>\n",
       "    <tr>\n",
       "      <th>2491</th>\n",
       "      <td>-0.397123</td>\n",
       "      <td>-1.236554</td>\n",
       "      <td>-0.357331</td>\n",
       "      <td>-1.222967</td>\n",
       "      <td>0.789359</td>\n",
       "      <td>0.643184</td>\n",
       "      <td>0.965040</td>\n",
       "      <td>1.392642</td>\n",
       "      <td>0.0</td>\n",
       "      <td>1.0</td>\n",
       "      <td>0.0</td>\n",
       "    </tr>\n",
       "    <tr>\n",
       "      <th>...</th>\n",
       "      <td>...</td>\n",
       "      <td>...</td>\n",
       "      <td>...</td>\n",
       "      <td>...</td>\n",
       "      <td>...</td>\n",
       "      <td>...</td>\n",
       "      <td>...</td>\n",
       "      <td>...</td>\n",
       "      <td>...</td>\n",
       "      <td>...</td>\n",
       "      <td>...</td>\n",
       "    </tr>\n",
       "    <tr>\n",
       "      <th>3891</th>\n",
       "      <td>0.759051</td>\n",
       "      <td>-1.044650</td>\n",
       "      <td>-0.009440</td>\n",
       "      <td>0.248750</td>\n",
       "      <td>-0.910943</td>\n",
       "      <td>0.643184</td>\n",
       "      <td>-1.036226</td>\n",
       "      <td>0.761788</td>\n",
       "      <td>1.0</td>\n",
       "      <td>0.0</td>\n",
       "      <td>0.0</td>\n",
       "    </tr>\n",
       "    <tr>\n",
       "      <th>2675</th>\n",
       "      <td>0.988203</td>\n",
       "      <td>-0.085132</td>\n",
       "      <td>-0.009440</td>\n",
       "      <td>-0.180942</td>\n",
       "      <td>0.789359</td>\n",
       "      <td>0.643184</td>\n",
       "      <td>0.965040</td>\n",
       "      <td>0.704706</td>\n",
       "      <td>1.0</td>\n",
       "      <td>0.0</td>\n",
       "      <td>1.0</td>\n",
       "    </tr>\n",
       "    <tr>\n",
       "      <th>4217</th>\n",
       "      <td>-0.657523</td>\n",
       "      <td>-0.372988</td>\n",
       "      <td>-0.009440</td>\n",
       "      <td>0.727784</td>\n",
       "      <td>-0.910943</td>\n",
       "      <td>0.643184</td>\n",
       "      <td>0.965040</td>\n",
       "      <td>-1.323749</td>\n",
       "      <td>1.0</td>\n",
       "      <td>0.0</td>\n",
       "      <td>1.0</td>\n",
       "    </tr>\n",
       "    <tr>\n",
       "      <th>5817</th>\n",
       "      <td>-0.386707</td>\n",
       "      <td>2.889373</td>\n",
       "      <td>1.382122</td>\n",
       "      <td>0.038092</td>\n",
       "      <td>-0.910943</td>\n",
       "      <td>-1.554765</td>\n",
       "      <td>0.965040</td>\n",
       "      <td>-1.579750</td>\n",
       "      <td>1.0</td>\n",
       "      <td>0.0</td>\n",
       "      <td>1.0</td>\n",
       "    </tr>\n",
       "    <tr>\n",
       "      <th>2671</th>\n",
       "      <td>1.550666</td>\n",
       "      <td>-0.372988</td>\n",
       "      <td>0.686341</td>\n",
       "      <td>-1.222967</td>\n",
       "      <td>0.789359</td>\n",
       "      <td>-1.554765</td>\n",
       "      <td>0.965040</td>\n",
       "      <td>0.714845</td>\n",
       "      <td>0.0</td>\n",
       "      <td>1.0</td>\n",
       "      <td>1.0</td>\n",
       "    </tr>\n",
       "  </tbody>\n",
       "</table>\n",
       "<p>5454 rows × 11 columns</p>\n",
       "</div>"
      ],
      "text/plain": [
       "      CreditScore       Age    Tenure   Balance  NumOfProducts  HasCrCard  \\\n",
       "9723    -1.292898 -0.660843  0.686341  0.786636      -0.910943  -1.554765   \n",
       "1224    -1.563714  0.778434  1.034232  0.833795      -0.910943   0.643184   \n",
       "8377     1.581914  0.106771 -0.357331 -1.222967       0.789359   0.643184   \n",
       "8014     0.842379  0.010820 -1.053112  0.807063      -0.910943   0.643184   \n",
       "2491    -0.397123 -1.236554 -0.357331 -1.222967       0.789359   0.643184   \n",
       "...           ...       ...       ...       ...            ...        ...   \n",
       "3891     0.759051 -1.044650 -0.009440  0.248750      -0.910943   0.643184   \n",
       "2675     0.988203 -0.085132 -0.009440 -0.180942       0.789359   0.643184   \n",
       "4217    -0.657523 -0.372988 -0.009440  0.727784      -0.910943   0.643184   \n",
       "5817    -0.386707  2.889373  1.382122  0.038092      -0.910943  -1.554765   \n",
       "2671     1.550666 -0.372988  0.686341 -1.222967       0.789359  -1.554765   \n",
       "\n",
       "      IsActiveMember  EstimatedSalary  Geography_Germany  Geography_Spain  \\\n",
       "9723       -1.036226        -0.223548                0.0              0.0   \n",
       "1224       -1.036226         1.383021                0.0              1.0   \n",
       "8377        0.965040        -0.308331                0.0              1.0   \n",
       "8014        0.965040        -0.430980                0.0              1.0   \n",
       "2491        0.965040         1.392642                0.0              1.0   \n",
       "...              ...              ...                ...              ...   \n",
       "3891       -1.036226         0.761788                1.0              0.0   \n",
       "2675        0.965040         0.704706                1.0              0.0   \n",
       "4217        0.965040        -1.323749                1.0              0.0   \n",
       "5817        0.965040        -1.579750                1.0              0.0   \n",
       "2671        0.965040         0.714845                0.0              1.0   \n",
       "\n",
       "      Gender_Male  \n",
       "9723          1.0  \n",
       "1224          0.0  \n",
       "8377          1.0  \n",
       "8014          0.0  \n",
       "2491          0.0  \n",
       "...           ...  \n",
       "3891          0.0  \n",
       "2675          1.0  \n",
       "4217          1.0  \n",
       "5817          1.0  \n",
       "2671          1.0  \n",
       "\n",
       "[5454 rows x 11 columns]"
      ]
     },
     "execution_count": 70,
     "metadata": {},
     "output_type": "execute_result"
    }
   ],
   "source": [
    "features_train"
   ]
  },
  {
   "cell_type": "markdown",
   "id": "170d689e",
   "metadata": {},
   "source": [
    "### Масштабирование признаков"
   ]
  },
  {
   "cell_type": "markdown",
   "id": "81ab0e35",
   "metadata": {},
   "source": [
    "Признаки, содержащие количественные данные, имеют разный разброс. Чтобы модели было легче справиться с обучением, и не предавать какому-либо признаку большее значение, проведем стандартизацию количественных переменных с помощью структуры _StandardScaler_."
   ]
  },
  {
   "cell_type": "code",
   "execution_count": 30,
   "id": "93e8e747",
   "metadata": {},
   "outputs": [],
   "source": [
    "# перечислим числовые признаки, которые нужно масштабировать, в переменной \"numeric\":\n",
    "numeric = ['CreditScore', 'Age', 'Tenure', 'Balance', 'NumOfProducts', 'HasCrCard', 'IsActiveMember','EstimatedSalary']"
   ]
  },
  {
   "cell_type": "code",
   "execution_count": 31,
   "id": "81e756d2",
   "metadata": {},
   "outputs": [],
   "source": [
    "# создадим объект Scaler\n",
    "\n",
    "scaler = StandardScaler() \n",
    "scaler.fit(features_train[numeric])\n",
    "\n",
    "# проведем масштабирование признаков тренировочной, валидационной (а также имеющейся в доспуте тестовой) \n",
    "# выборок для дальнейшего обучения модели:\n",
    "\n",
    "features_train[numeric] = scaler.transform(features_train[numeric])\n",
    "features_valid[numeric] = scaler.transform(features_valid[numeric])\n",
    "features_test[numeric] = scaler.transform(features_test[numeric])"
   ]
  },
  {
   "cell_type": "code",
   "execution_count": 32,
   "id": "fba95f17",
   "metadata": {
    "scrolled": false
   },
   "outputs": [
    {
     "data": {
      "text/html": [
       "<div>\n",
       "<style scoped>\n",
       "    .dataframe tbody tr th:only-of-type {\n",
       "        vertical-align: middle;\n",
       "    }\n",
       "\n",
       "    .dataframe tbody tr th {\n",
       "        vertical-align: top;\n",
       "    }\n",
       "\n",
       "    .dataframe thead th {\n",
       "        text-align: right;\n",
       "    }\n",
       "</style>\n",
       "<table border=\"1\" class=\"dataframe\">\n",
       "  <thead>\n",
       "    <tr style=\"text-align: right;\">\n",
       "      <th></th>\n",
       "      <th>CreditScore</th>\n",
       "      <th>Age</th>\n",
       "      <th>Tenure</th>\n",
       "      <th>Balance</th>\n",
       "      <th>NumOfProducts</th>\n",
       "      <th>HasCrCard</th>\n",
       "      <th>IsActiveMember</th>\n",
       "      <th>EstimatedSalary</th>\n",
       "      <th>Geography_Germany</th>\n",
       "      <th>Geography_Spain</th>\n",
       "      <th>Gender_Male</th>\n",
       "    </tr>\n",
       "  </thead>\n",
       "  <tbody>\n",
       "    <tr>\n",
       "      <th>9723</th>\n",
       "      <td>-1.292898</td>\n",
       "      <td>-0.660843</td>\n",
       "      <td>0.686341</td>\n",
       "      <td>0.786636</td>\n",
       "      <td>-0.910943</td>\n",
       "      <td>-1.554765</td>\n",
       "      <td>-1.036226</td>\n",
       "      <td>-0.223548</td>\n",
       "      <td>0.0</td>\n",
       "      <td>0.0</td>\n",
       "      <td>1.0</td>\n",
       "    </tr>\n",
       "    <tr>\n",
       "      <th>1224</th>\n",
       "      <td>-1.563714</td>\n",
       "      <td>0.778434</td>\n",
       "      <td>1.034232</td>\n",
       "      <td>0.833795</td>\n",
       "      <td>-0.910943</td>\n",
       "      <td>0.643184</td>\n",
       "      <td>-1.036226</td>\n",
       "      <td>1.383021</td>\n",
       "      <td>0.0</td>\n",
       "      <td>1.0</td>\n",
       "      <td>0.0</td>\n",
       "    </tr>\n",
       "    <tr>\n",
       "      <th>8377</th>\n",
       "      <td>1.581914</td>\n",
       "      <td>0.106771</td>\n",
       "      <td>-0.357331</td>\n",
       "      <td>-1.222967</td>\n",
       "      <td>0.789359</td>\n",
       "      <td>0.643184</td>\n",
       "      <td>0.965040</td>\n",
       "      <td>-0.308331</td>\n",
       "      <td>0.0</td>\n",
       "      <td>1.0</td>\n",
       "      <td>1.0</td>\n",
       "    </tr>\n",
       "    <tr>\n",
       "      <th>8014</th>\n",
       "      <td>0.842379</td>\n",
       "      <td>0.010820</td>\n",
       "      <td>-1.053112</td>\n",
       "      <td>0.807063</td>\n",
       "      <td>-0.910943</td>\n",
       "      <td>0.643184</td>\n",
       "      <td>0.965040</td>\n",
       "      <td>-0.430980</td>\n",
       "      <td>0.0</td>\n",
       "      <td>1.0</td>\n",
       "      <td>0.0</td>\n",
       "    </tr>\n",
       "    <tr>\n",
       "      <th>2491</th>\n",
       "      <td>-0.397123</td>\n",
       "      <td>-1.236554</td>\n",
       "      <td>-0.357331</td>\n",
       "      <td>-1.222967</td>\n",
       "      <td>0.789359</td>\n",
       "      <td>0.643184</td>\n",
       "      <td>0.965040</td>\n",
       "      <td>1.392642</td>\n",
       "      <td>0.0</td>\n",
       "      <td>1.0</td>\n",
       "      <td>0.0</td>\n",
       "    </tr>\n",
       "    <tr>\n",
       "      <th>...</th>\n",
       "      <td>...</td>\n",
       "      <td>...</td>\n",
       "      <td>...</td>\n",
       "      <td>...</td>\n",
       "      <td>...</td>\n",
       "      <td>...</td>\n",
       "      <td>...</td>\n",
       "      <td>...</td>\n",
       "      <td>...</td>\n",
       "      <td>...</td>\n",
       "      <td>...</td>\n",
       "    </tr>\n",
       "    <tr>\n",
       "      <th>3891</th>\n",
       "      <td>0.759051</td>\n",
       "      <td>-1.044650</td>\n",
       "      <td>-0.009440</td>\n",
       "      <td>0.248750</td>\n",
       "      <td>-0.910943</td>\n",
       "      <td>0.643184</td>\n",
       "      <td>-1.036226</td>\n",
       "      <td>0.761788</td>\n",
       "      <td>1.0</td>\n",
       "      <td>0.0</td>\n",
       "      <td>0.0</td>\n",
       "    </tr>\n",
       "    <tr>\n",
       "      <th>2675</th>\n",
       "      <td>0.988203</td>\n",
       "      <td>-0.085132</td>\n",
       "      <td>-0.009440</td>\n",
       "      <td>-0.180942</td>\n",
       "      <td>0.789359</td>\n",
       "      <td>0.643184</td>\n",
       "      <td>0.965040</td>\n",
       "      <td>0.704706</td>\n",
       "      <td>1.0</td>\n",
       "      <td>0.0</td>\n",
       "      <td>1.0</td>\n",
       "    </tr>\n",
       "    <tr>\n",
       "      <th>4217</th>\n",
       "      <td>-0.657523</td>\n",
       "      <td>-0.372988</td>\n",
       "      <td>-0.009440</td>\n",
       "      <td>0.727784</td>\n",
       "      <td>-0.910943</td>\n",
       "      <td>0.643184</td>\n",
       "      <td>0.965040</td>\n",
       "      <td>-1.323749</td>\n",
       "      <td>1.0</td>\n",
       "      <td>0.0</td>\n",
       "      <td>1.0</td>\n",
       "    </tr>\n",
       "    <tr>\n",
       "      <th>5817</th>\n",
       "      <td>-0.386707</td>\n",
       "      <td>2.889373</td>\n",
       "      <td>1.382122</td>\n",
       "      <td>0.038092</td>\n",
       "      <td>-0.910943</td>\n",
       "      <td>-1.554765</td>\n",
       "      <td>0.965040</td>\n",
       "      <td>-1.579750</td>\n",
       "      <td>1.0</td>\n",
       "      <td>0.0</td>\n",
       "      <td>1.0</td>\n",
       "    </tr>\n",
       "    <tr>\n",
       "      <th>2671</th>\n",
       "      <td>1.550666</td>\n",
       "      <td>-0.372988</td>\n",
       "      <td>0.686341</td>\n",
       "      <td>-1.222967</td>\n",
       "      <td>0.789359</td>\n",
       "      <td>-1.554765</td>\n",
       "      <td>0.965040</td>\n",
       "      <td>0.714845</td>\n",
       "      <td>0.0</td>\n",
       "      <td>1.0</td>\n",
       "      <td>1.0</td>\n",
       "    </tr>\n",
       "  </tbody>\n",
       "</table>\n",
       "<p>5454 rows × 11 columns</p>\n",
       "</div>"
      ],
      "text/plain": [
       "      CreditScore       Age    Tenure   Balance  NumOfProducts  HasCrCard  \\\n",
       "9723    -1.292898 -0.660843  0.686341  0.786636      -0.910943  -1.554765   \n",
       "1224    -1.563714  0.778434  1.034232  0.833795      -0.910943   0.643184   \n",
       "8377     1.581914  0.106771 -0.357331 -1.222967       0.789359   0.643184   \n",
       "8014     0.842379  0.010820 -1.053112  0.807063      -0.910943   0.643184   \n",
       "2491    -0.397123 -1.236554 -0.357331 -1.222967       0.789359   0.643184   \n",
       "...           ...       ...       ...       ...            ...        ...   \n",
       "3891     0.759051 -1.044650 -0.009440  0.248750      -0.910943   0.643184   \n",
       "2675     0.988203 -0.085132 -0.009440 -0.180942       0.789359   0.643184   \n",
       "4217    -0.657523 -0.372988 -0.009440  0.727784      -0.910943   0.643184   \n",
       "5817    -0.386707  2.889373  1.382122  0.038092      -0.910943  -1.554765   \n",
       "2671     1.550666 -0.372988  0.686341 -1.222967       0.789359  -1.554765   \n",
       "\n",
       "      IsActiveMember  EstimatedSalary  Geography_Germany  Geography_Spain  \\\n",
       "9723       -1.036226        -0.223548                0.0              0.0   \n",
       "1224       -1.036226         1.383021                0.0              1.0   \n",
       "8377        0.965040        -0.308331                0.0              1.0   \n",
       "8014        0.965040        -0.430980                0.0              1.0   \n",
       "2491        0.965040         1.392642                0.0              1.0   \n",
       "...              ...              ...                ...              ...   \n",
       "3891       -1.036226         0.761788                1.0              0.0   \n",
       "2675        0.965040         0.704706                1.0              0.0   \n",
       "4217        0.965040        -1.323749                1.0              0.0   \n",
       "5817        0.965040        -1.579750                1.0              0.0   \n",
       "2671        0.965040         0.714845                0.0              1.0   \n",
       "\n",
       "      Gender_Male  \n",
       "9723          1.0  \n",
       "1224          0.0  \n",
       "8377          1.0  \n",
       "8014          0.0  \n",
       "2491          0.0  \n",
       "...           ...  \n",
       "3891          0.0  \n",
       "2675          1.0  \n",
       "4217          1.0  \n",
       "5817          1.0  \n",
       "2671          1.0  \n",
       "\n",
       "[5454 rows x 11 columns]"
      ]
     },
     "execution_count": 32,
     "metadata": {},
     "output_type": "execute_result"
    }
   ],
   "source": [
    "# проверим тренировочную выборку:\n",
    "features_train"
   ]
  },
  {
   "cell_type": "markdown",
   "id": "43b0fb41",
   "metadata": {},
   "source": [
    "\n",
    "После подготовки данных мы можем обучить модель алгоритмами подходящими для решения задач бинарной классификации:\n",
    "* Логистическая регрессия\n",
    "* Случайный лес\n",
    "* Дерево решений"
   ]
  },
  {
   "cell_type": "markdown",
   "id": "f848edb5",
   "metadata": {},
   "source": [
    "## Обучение модели на подготовленных данных и оценка качества модели"
   ]
  },
  {
   "cell_type": "markdown",
   "id": "73dad559",
   "metadata": {},
   "source": [
    "Для проверки, как справится модель с дисбалансом классов, обучим модель алгоримтами Логистической регрессии, Дерева Решений и Случайного леса, для оценки качества модели используем метрики: __F1-меру, recall и precision__."
   ]
  },
  {
   "cell_type": "markdown",
   "id": "54e43e76",
   "metadata": {},
   "source": [
    "### Логистическая регрессия"
   ]
  },
  {
   "cell_type": "code",
   "execution_count": 33,
   "id": "148c4432",
   "metadata": {},
   "outputs": [],
   "source": [
    "# создадим модель LogissticRegression и обучим ее на тренировочных данных, получим предсказания:\n",
    "model_log = LogisticRegression(random_state=12345, solver='liblinear')\n",
    "model_log.fit(features_train, target_train)\n",
    "predicted_valid = model_log.predict(features_valid)"
   ]
  },
  {
   "cell_type": "code",
   "execution_count": 34,
   "id": "914178ad",
   "metadata": {},
   "outputs": [],
   "source": [
    "# добавим модель в список моделей для расчета метрик качества:\n",
    "models = []\n",
    "models.append(model_log)"
   ]
  },
  {
   "cell_type": "markdown",
   "id": "26e7e2ae",
   "metadata": {},
   "source": [
    "### Дерево решений"
   ]
  },
  {
   "cell_type": "code",
   "execution_count": 35,
   "id": "a7c1e261",
   "metadata": {},
   "outputs": [
    {
     "data": {
      "text/html": [
       "<style>#sk-container-id-2 {color: black;background-color: white;}#sk-container-id-2 pre{padding: 0;}#sk-container-id-2 div.sk-toggleable {background-color: white;}#sk-container-id-2 label.sk-toggleable__label {cursor: pointer;display: block;width: 100%;margin-bottom: 0;padding: 0.3em;box-sizing: border-box;text-align: center;}#sk-container-id-2 label.sk-toggleable__label-arrow:before {content: \"▸\";float: left;margin-right: 0.25em;color: #696969;}#sk-container-id-2 label.sk-toggleable__label-arrow:hover:before {color: black;}#sk-container-id-2 div.sk-estimator:hover label.sk-toggleable__label-arrow:before {color: black;}#sk-container-id-2 div.sk-toggleable__content {max-height: 0;max-width: 0;overflow: hidden;text-align: left;background-color: #f0f8ff;}#sk-container-id-2 div.sk-toggleable__content pre {margin: 0.2em;color: black;border-radius: 0.25em;background-color: #f0f8ff;}#sk-container-id-2 input.sk-toggleable__control:checked~div.sk-toggleable__content {max-height: 200px;max-width: 100%;overflow: auto;}#sk-container-id-2 input.sk-toggleable__control:checked~label.sk-toggleable__label-arrow:before {content: \"▾\";}#sk-container-id-2 div.sk-estimator input.sk-toggleable__control:checked~label.sk-toggleable__label {background-color: #d4ebff;}#sk-container-id-2 div.sk-label input.sk-toggleable__control:checked~label.sk-toggleable__label {background-color: #d4ebff;}#sk-container-id-2 input.sk-hidden--visually {border: 0;clip: rect(1px 1px 1px 1px);clip: rect(1px, 1px, 1px, 1px);height: 1px;margin: -1px;overflow: hidden;padding: 0;position: absolute;width: 1px;}#sk-container-id-2 div.sk-estimator {font-family: monospace;background-color: #f0f8ff;border: 1px dotted black;border-radius: 0.25em;box-sizing: border-box;margin-bottom: 0.5em;}#sk-container-id-2 div.sk-estimator:hover {background-color: #d4ebff;}#sk-container-id-2 div.sk-parallel-item::after {content: \"\";width: 100%;border-bottom: 1px solid gray;flex-grow: 1;}#sk-container-id-2 div.sk-label:hover label.sk-toggleable__label {background-color: #d4ebff;}#sk-container-id-2 div.sk-serial::before {content: \"\";position: absolute;border-left: 1px solid gray;box-sizing: border-box;top: 0;bottom: 0;left: 50%;z-index: 0;}#sk-container-id-2 div.sk-serial {display: flex;flex-direction: column;align-items: center;background-color: white;padding-right: 0.2em;padding-left: 0.2em;position: relative;}#sk-container-id-2 div.sk-item {position: relative;z-index: 1;}#sk-container-id-2 div.sk-parallel {display: flex;align-items: stretch;justify-content: center;background-color: white;position: relative;}#sk-container-id-2 div.sk-item::before, #sk-container-id-2 div.sk-parallel-item::before {content: \"\";position: absolute;border-left: 1px solid gray;box-sizing: border-box;top: 0;bottom: 0;left: 50%;z-index: -1;}#sk-container-id-2 div.sk-parallel-item {display: flex;flex-direction: column;z-index: 1;position: relative;background-color: white;}#sk-container-id-2 div.sk-parallel-item:first-child::after {align-self: flex-end;width: 50%;}#sk-container-id-2 div.sk-parallel-item:last-child::after {align-self: flex-start;width: 50%;}#sk-container-id-2 div.sk-parallel-item:only-child::after {width: 0;}#sk-container-id-2 div.sk-dashed-wrapped {border: 1px dashed gray;margin: 0 0.4em 0.5em 0.4em;box-sizing: border-box;padding-bottom: 0.4em;background-color: white;}#sk-container-id-2 div.sk-label label {font-family: monospace;font-weight: bold;display: inline-block;line-height: 1.2em;}#sk-container-id-2 div.sk-label-container {text-align: center;}#sk-container-id-2 div.sk-container {/* jupyter's `normalize.less` sets `[hidden] { display: none; }` but bootstrap.min.css set `[hidden] { display: none !important; }` so we also need the `!important` here to be able to override the default hidden behavior on the sphinx rendered scikit-learn.org. See: https://github.com/scikit-learn/scikit-learn/issues/21755 */display: inline-block !important;position: relative;}#sk-container-id-2 div.sk-text-repr-fallback {display: none;}</style><div id=\"sk-container-id-2\" class=\"sk-top-container\"><div class=\"sk-text-repr-fallback\"><pre>DecisionTreeClassifier(max_depth=7, random_state=12345)</pre><b>In a Jupyter environment, please rerun this cell to show the HTML representation or trust the notebook. <br />On GitHub, the HTML representation is unable to render, please try loading this page with nbviewer.org.</b></div><div class=\"sk-container\" hidden><div class=\"sk-item\"><div class=\"sk-estimator sk-toggleable\"><input class=\"sk-toggleable__control sk-hidden--visually\" id=\"sk-estimator-id-2\" type=\"checkbox\" checked><label for=\"sk-estimator-id-2\" class=\"sk-toggleable__label sk-toggleable__label-arrow\">DecisionTreeClassifier</label><div class=\"sk-toggleable__content\"><pre>DecisionTreeClassifier(max_depth=7, random_state=12345)</pre></div></div></div></div></div>"
      ],
      "text/plain": [
       "DecisionTreeClassifier(max_depth=7, random_state=12345)"
      ]
     },
     "execution_count": 35,
     "metadata": {},
     "output_type": "execute_result"
    }
   ],
   "source": [
    "# создадим модель DecisionTreeClassifier, подберем оптимальный гиперпараметр max_depth\n",
    "# обучим ее на тренировочных данных, наилучшую модель сохраним в model_tree:\n",
    "f1_max = 0\n",
    "model_tree = None\n",
    "\n",
    "for depth in range(1, 15):\n",
    "    model = DecisionTreeClassifier(max_depth=depth, random_state=12345)\n",
    "    model.fit(features_train, target_train)\n",
    "    predicted_valid = model.predict(features_valid)\n",
    "    f1 = f1_score(target_valid, predicted_valid)\n",
    "    if f1 > f1_max:\n",
    "        f1_max = f1\n",
    "        model_tree = model\n",
    "\n",
    "model_tree"
   ]
  },
  {
   "cell_type": "code",
   "execution_count": 36,
   "id": "aba90b60",
   "metadata": {},
   "outputs": [],
   "source": [
    "# добавим модель в список models:\n",
    "models.append(model_tree)"
   ]
  },
  {
   "cell_type": "markdown",
   "id": "19166543",
   "metadata": {},
   "source": [
    "### Случайный лес"
   ]
  },
  {
   "cell_type": "code",
   "execution_count": 37,
   "id": "56da55ef",
   "metadata": {},
   "outputs": [
    {
     "data": {
      "text/html": [
       "<style>#sk-container-id-3 {color: black;background-color: white;}#sk-container-id-3 pre{padding: 0;}#sk-container-id-3 div.sk-toggleable {background-color: white;}#sk-container-id-3 label.sk-toggleable__label {cursor: pointer;display: block;width: 100%;margin-bottom: 0;padding: 0.3em;box-sizing: border-box;text-align: center;}#sk-container-id-3 label.sk-toggleable__label-arrow:before {content: \"▸\";float: left;margin-right: 0.25em;color: #696969;}#sk-container-id-3 label.sk-toggleable__label-arrow:hover:before {color: black;}#sk-container-id-3 div.sk-estimator:hover label.sk-toggleable__label-arrow:before {color: black;}#sk-container-id-3 div.sk-toggleable__content {max-height: 0;max-width: 0;overflow: hidden;text-align: left;background-color: #f0f8ff;}#sk-container-id-3 div.sk-toggleable__content pre {margin: 0.2em;color: black;border-radius: 0.25em;background-color: #f0f8ff;}#sk-container-id-3 input.sk-toggleable__control:checked~div.sk-toggleable__content {max-height: 200px;max-width: 100%;overflow: auto;}#sk-container-id-3 input.sk-toggleable__control:checked~label.sk-toggleable__label-arrow:before {content: \"▾\";}#sk-container-id-3 div.sk-estimator input.sk-toggleable__control:checked~label.sk-toggleable__label {background-color: #d4ebff;}#sk-container-id-3 div.sk-label input.sk-toggleable__control:checked~label.sk-toggleable__label {background-color: #d4ebff;}#sk-container-id-3 input.sk-hidden--visually {border: 0;clip: rect(1px 1px 1px 1px);clip: rect(1px, 1px, 1px, 1px);height: 1px;margin: -1px;overflow: hidden;padding: 0;position: absolute;width: 1px;}#sk-container-id-3 div.sk-estimator {font-family: monospace;background-color: #f0f8ff;border: 1px dotted black;border-radius: 0.25em;box-sizing: border-box;margin-bottom: 0.5em;}#sk-container-id-3 div.sk-estimator:hover {background-color: #d4ebff;}#sk-container-id-3 div.sk-parallel-item::after {content: \"\";width: 100%;border-bottom: 1px solid gray;flex-grow: 1;}#sk-container-id-3 div.sk-label:hover label.sk-toggleable__label {background-color: #d4ebff;}#sk-container-id-3 div.sk-serial::before {content: \"\";position: absolute;border-left: 1px solid gray;box-sizing: border-box;top: 0;bottom: 0;left: 50%;z-index: 0;}#sk-container-id-3 div.sk-serial {display: flex;flex-direction: column;align-items: center;background-color: white;padding-right: 0.2em;padding-left: 0.2em;position: relative;}#sk-container-id-3 div.sk-item {position: relative;z-index: 1;}#sk-container-id-3 div.sk-parallel {display: flex;align-items: stretch;justify-content: center;background-color: white;position: relative;}#sk-container-id-3 div.sk-item::before, #sk-container-id-3 div.sk-parallel-item::before {content: \"\";position: absolute;border-left: 1px solid gray;box-sizing: border-box;top: 0;bottom: 0;left: 50%;z-index: -1;}#sk-container-id-3 div.sk-parallel-item {display: flex;flex-direction: column;z-index: 1;position: relative;background-color: white;}#sk-container-id-3 div.sk-parallel-item:first-child::after {align-self: flex-end;width: 50%;}#sk-container-id-3 div.sk-parallel-item:last-child::after {align-self: flex-start;width: 50%;}#sk-container-id-3 div.sk-parallel-item:only-child::after {width: 0;}#sk-container-id-3 div.sk-dashed-wrapped {border: 1px dashed gray;margin: 0 0.4em 0.5em 0.4em;box-sizing: border-box;padding-bottom: 0.4em;background-color: white;}#sk-container-id-3 div.sk-label label {font-family: monospace;font-weight: bold;display: inline-block;line-height: 1.2em;}#sk-container-id-3 div.sk-label-container {text-align: center;}#sk-container-id-3 div.sk-container {/* jupyter's `normalize.less` sets `[hidden] { display: none; }` but bootstrap.min.css set `[hidden] { display: none !important; }` so we also need the `!important` here to be able to override the default hidden behavior on the sphinx rendered scikit-learn.org. See: https://github.com/scikit-learn/scikit-learn/issues/21755 */display: inline-block !important;position: relative;}#sk-container-id-3 div.sk-text-repr-fallback {display: none;}</style><div id=\"sk-container-id-3\" class=\"sk-top-container\"><div class=\"sk-text-repr-fallback\"><pre>RandomForestClassifier(max_depth=13, n_estimators=110, random_state=12345)</pre><b>In a Jupyter environment, please rerun this cell to show the HTML representation or trust the notebook. <br />On GitHub, the HTML representation is unable to render, please try loading this page with nbviewer.org.</b></div><div class=\"sk-container\" hidden><div class=\"sk-item\"><div class=\"sk-estimator sk-toggleable\"><input class=\"sk-toggleable__control sk-hidden--visually\" id=\"sk-estimator-id-3\" type=\"checkbox\" checked><label for=\"sk-estimator-id-3\" class=\"sk-toggleable__label sk-toggleable__label-arrow\">RandomForestClassifier</label><div class=\"sk-toggleable__content\"><pre>RandomForestClassifier(max_depth=13, n_estimators=110, random_state=12345)</pre></div></div></div></div></div>"
      ],
      "text/plain": [
       "RandomForestClassifier(max_depth=13, n_estimators=110, random_state=12345)"
      ]
     },
     "execution_count": 37,
     "metadata": {},
     "output_type": "execute_result"
    }
   ],
   "source": [
    "# создадим модель RandomForest, подберем отпимальные гиперпараметры max_depth n_estimators, обучим ее на тренировочных данных:\n",
    "# модель с наилучшим показателем метрики f1 сохраним в model_forest\n",
    "f1_max = 0\n",
    "model_forest = None\n",
    "\n",
    "for depth in range(1, 16):\n",
    "    for est in range(10, 151, 10):\n",
    "        model = RandomForestClassifier(max_depth=depth, n_estimators=est, random_state=12345)\n",
    "        model.fit(features_train, target_train)\n",
    "        predicted_valid = model.predict(features_valid)\n",
    "        f1 = f1_score(target_valid, predicted_valid)\n",
    "        if f1 > f1_max:\n",
    "            f1_max = f1\n",
    "            model_forest = model\n",
    "        \n",
    "model_forest"
   ]
  },
  {
   "cell_type": "code",
   "execution_count": 38,
   "id": "b1a2ff9a",
   "metadata": {},
   "outputs": [],
   "source": [
    "# добавим модель в список models:\n",
    "models.append(model_forest)"
   ]
  },
  {
   "cell_type": "code",
   "execution_count": 39,
   "id": "10dcb444",
   "metadata": {},
   "outputs": [],
   "source": [
    "# напишем фукнцию metrics для расчета метрик Recall, Precision, F1:\n",
    "def metrics(features_train, target_train, features_valid, target_valid):\n",
    "    model.fit(features_train, target_train)\n",
    "    predicted = model.predict(features_valid)\n",
    "    return print('Recall =', f'{recall_score(target_valid, predicted):.3}',\\\n",
    "                 'Precision =', f'{precision_score(target_valid, predicted):.3}', \\\n",
    "                 'F1 =', f'{f1_score(target_valid, predicted):.3}')"
   ]
  },
  {
   "cell_type": "code",
   "execution_count": 40,
   "id": "02116224",
   "metadata": {
    "scrolled": true
   },
   "outputs": [
    {
     "name": "stdout",
     "output_type": "stream",
     "text": [
      "Recall = 0.224 Precision = 0.634 F1 = 0.331\n",
      "Recall = 0.466 Precision = 0.772 F1 = 0.582\n",
      "Recall = 0.499 Precision = 0.794 F1 = 0.613\n"
     ]
    }
   ],
   "source": [
    "# посмотрим метрики для всех моделей:\n",
    "for model in models:\n",
    "    metrics(features_train, target_train, features_valid, target_valid)"
   ]
  },
  {
   "cell_type": "markdown",
   "id": "9ff390bc",
   "metadata": {},
   "source": [
    "F1-мера всех трех моделей  не достигает \"1\".\n",
    "\n",
    "Значение precision (точность) достаточно высока, что говорит, что доля верно предсказанный положительных ответов относительно всех предсказанных положительных ответов достаточно велика, \n",
    "\n",
    "а вот показатель recall (полнота) очень низок (особенно для модели Логистической регрессии), и означает что обученная модель не смогла справиться с предсказанием, и  доля верно предсказанных положительных ответов относительно дейсвительно положительных ответов крайне низкая."
   ]
  },
  {
   "cell_type": "markdown",
   "id": "78271481",
   "metadata": {},
   "source": [
    "Скорее всего, на низкие показатели метрик качества повлиял дисбаланс классов целевого признака: 20 к 80. Поработаем с дисбалансом и оценим как изменились показатели качества обученной модели."
   ]
  },
  {
   "cell_type": "markdown",
   "id": "5931ee28",
   "metadata": {},
   "source": [
    "## Улучшение модели"
   ]
  },
  {
   "cell_type": "markdown",
   "id": "48481fc1",
   "metadata": {},
   "source": [
    "### Взвешивание классов"
   ]
  },
  {
   "cell_type": "markdown",
   "id": "e0422898",
   "metadata": {},
   "source": [
    "Обучим модели, используя аргумент _class_weigth_ со значением \"balanced\". Применим аргумент к Логистической регрессии, Дереву решениий и Случайному лесу. После обучения проверим качество модели на валидационной выборке с помощью __F1-меры__ и __AUC ROC__. Обученные модели сохраним в список models_class."
   ]
  },
  {
   "cell_type": "markdown",
   "id": "dcb514be",
   "metadata": {},
   "source": [
    "#### Логистическая регрессия"
   ]
  },
  {
   "cell_type": "code",
   "execution_count": 41,
   "id": "ea510293",
   "metadata": {},
   "outputs": [],
   "source": [
    "# создадим модель LogisticRegression,применив гиперпараметр class_weight:\n",
    "model_log_1 = LogisticRegression(random_state=12345, solver='liblinear', class_weight='balanced')\n",
    "model_log_1.fit(features_train, target_train)\n",
    "predicted_valid = model_log_1.predict(features_valid)"
   ]
  },
  {
   "cell_type": "code",
   "execution_count": 42,
   "id": "ed09aabf",
   "metadata": {},
   "outputs": [],
   "source": [
    "# добавим модель в список models_class:\n",
    "models_class = []\n",
    "models_class.append(model_log_1)"
   ]
  },
  {
   "cell_type": "code",
   "execution_count": 43,
   "id": "4bf23117",
   "metadata": {},
   "outputs": [],
   "source": [
    "# напишем функцию auc_roc_sc для отображения графика ROC-кривой и расчета площади под ней:\n",
    "def auc_roc_sc(target, features, model):\n",
    "    proba_val_one = model.predict_proba(features)[:, 1]\n",
    "    fpr, tpr, threshold = roc_curve(target, proba_val_one)\n",
    "    plt.figure(figsize=(3, 3))\n",
    "    plt.plot(fpr, tpr)\n",
    "    plt.plot([0, 1], [0, 1], linestyle='--')\n",
    "    plt.xlim(0, 1)\n",
    "    plt.ylim(0, 1)\n",
    "    plt.xlabel('False positive rate')\n",
    "    plt.ylabel('True positive rate')\n",
    "    plt.title(f' ROC-кривая {model}')\n",
    "    plt.show\n",
    "    roc_auc_sc = roc_auc_score(target, proba_val_one)\n",
    "    return print('AUC_ROC =', f'{roc_auc_sc:.3}', plt.show)"
   ]
  },
  {
   "cell_type": "markdown",
   "id": "aff86be0",
   "metadata": {},
   "source": [
    "#### Дерево решений"
   ]
  },
  {
   "cell_type": "code",
   "execution_count": 44,
   "id": "45373d5a",
   "metadata": {},
   "outputs": [
    {
     "data": {
      "text/html": [
       "<style>#sk-container-id-4 {color: black;background-color: white;}#sk-container-id-4 pre{padding: 0;}#sk-container-id-4 div.sk-toggleable {background-color: white;}#sk-container-id-4 label.sk-toggleable__label {cursor: pointer;display: block;width: 100%;margin-bottom: 0;padding: 0.3em;box-sizing: border-box;text-align: center;}#sk-container-id-4 label.sk-toggleable__label-arrow:before {content: \"▸\";float: left;margin-right: 0.25em;color: #696969;}#sk-container-id-4 label.sk-toggleable__label-arrow:hover:before {color: black;}#sk-container-id-4 div.sk-estimator:hover label.sk-toggleable__label-arrow:before {color: black;}#sk-container-id-4 div.sk-toggleable__content {max-height: 0;max-width: 0;overflow: hidden;text-align: left;background-color: #f0f8ff;}#sk-container-id-4 div.sk-toggleable__content pre {margin: 0.2em;color: black;border-radius: 0.25em;background-color: #f0f8ff;}#sk-container-id-4 input.sk-toggleable__control:checked~div.sk-toggleable__content {max-height: 200px;max-width: 100%;overflow: auto;}#sk-container-id-4 input.sk-toggleable__control:checked~label.sk-toggleable__label-arrow:before {content: \"▾\";}#sk-container-id-4 div.sk-estimator input.sk-toggleable__control:checked~label.sk-toggleable__label {background-color: #d4ebff;}#sk-container-id-4 div.sk-label input.sk-toggleable__control:checked~label.sk-toggleable__label {background-color: #d4ebff;}#sk-container-id-4 input.sk-hidden--visually {border: 0;clip: rect(1px 1px 1px 1px);clip: rect(1px, 1px, 1px, 1px);height: 1px;margin: -1px;overflow: hidden;padding: 0;position: absolute;width: 1px;}#sk-container-id-4 div.sk-estimator {font-family: monospace;background-color: #f0f8ff;border: 1px dotted black;border-radius: 0.25em;box-sizing: border-box;margin-bottom: 0.5em;}#sk-container-id-4 div.sk-estimator:hover {background-color: #d4ebff;}#sk-container-id-4 div.sk-parallel-item::after {content: \"\";width: 100%;border-bottom: 1px solid gray;flex-grow: 1;}#sk-container-id-4 div.sk-label:hover label.sk-toggleable__label {background-color: #d4ebff;}#sk-container-id-4 div.sk-serial::before {content: \"\";position: absolute;border-left: 1px solid gray;box-sizing: border-box;top: 0;bottom: 0;left: 50%;z-index: 0;}#sk-container-id-4 div.sk-serial {display: flex;flex-direction: column;align-items: center;background-color: white;padding-right: 0.2em;padding-left: 0.2em;position: relative;}#sk-container-id-4 div.sk-item {position: relative;z-index: 1;}#sk-container-id-4 div.sk-parallel {display: flex;align-items: stretch;justify-content: center;background-color: white;position: relative;}#sk-container-id-4 div.sk-item::before, #sk-container-id-4 div.sk-parallel-item::before {content: \"\";position: absolute;border-left: 1px solid gray;box-sizing: border-box;top: 0;bottom: 0;left: 50%;z-index: -1;}#sk-container-id-4 div.sk-parallel-item {display: flex;flex-direction: column;z-index: 1;position: relative;background-color: white;}#sk-container-id-4 div.sk-parallel-item:first-child::after {align-self: flex-end;width: 50%;}#sk-container-id-4 div.sk-parallel-item:last-child::after {align-self: flex-start;width: 50%;}#sk-container-id-4 div.sk-parallel-item:only-child::after {width: 0;}#sk-container-id-4 div.sk-dashed-wrapped {border: 1px dashed gray;margin: 0 0.4em 0.5em 0.4em;box-sizing: border-box;padding-bottom: 0.4em;background-color: white;}#sk-container-id-4 div.sk-label label {font-family: monospace;font-weight: bold;display: inline-block;line-height: 1.2em;}#sk-container-id-4 div.sk-label-container {text-align: center;}#sk-container-id-4 div.sk-container {/* jupyter's `normalize.less` sets `[hidden] { display: none; }` but bootstrap.min.css set `[hidden] { display: none !important; }` so we also need the `!important` here to be able to override the default hidden behavior on the sphinx rendered scikit-learn.org. See: https://github.com/scikit-learn/scikit-learn/issues/21755 */display: inline-block !important;position: relative;}#sk-container-id-4 div.sk-text-repr-fallback {display: none;}</style><div id=\"sk-container-id-4\" class=\"sk-top-container\"><div class=\"sk-text-repr-fallback\"><pre>DecisionTreeClassifier(class_weight=&#x27;balanced&#x27;, max_depth=6, random_state=12345)</pre><b>In a Jupyter environment, please rerun this cell to show the HTML representation or trust the notebook. <br />On GitHub, the HTML representation is unable to render, please try loading this page with nbviewer.org.</b></div><div class=\"sk-container\" hidden><div class=\"sk-item\"><div class=\"sk-estimator sk-toggleable\"><input class=\"sk-toggleable__control sk-hidden--visually\" id=\"sk-estimator-id-4\" type=\"checkbox\" checked><label for=\"sk-estimator-id-4\" class=\"sk-toggleable__label sk-toggleable__label-arrow\">DecisionTreeClassifier</label><div class=\"sk-toggleable__content\"><pre>DecisionTreeClassifier(class_weight=&#x27;balanced&#x27;, max_depth=6, random_state=12345)</pre></div></div></div></div></div>"
      ],
      "text/plain": [
       "DecisionTreeClassifier(class_weight='balanced', max_depth=6, random_state=12345)"
      ]
     },
     "execution_count": 44,
     "metadata": {},
     "output_type": "execute_result"
    }
   ],
   "source": [
    "# создадим модель Decision Tree\n",
    "# подберем наилучший гиперпараметры модели по макс показателю F1:\n",
    "model_tree_1 = None\n",
    "f1_max = 0\n",
    "\n",
    "for depth in range(1, 16):\n",
    "    model = DecisionTreeClassifier(max_depth=depth, class_weight='balanced', random_state=12345)\n",
    "    model.fit(features_train, target_train)\n",
    "    predicted_valid = model.predict(features_valid)\n",
    "    f1 = f1_score(target_valid, predicted_valid)\n",
    "    if f1 > f1_max:\n",
    "        f1_max = f1\n",
    "        model_tree_1 = model\n",
    "    \n",
    "model_tree_1"
   ]
  },
  {
   "cell_type": "code",
   "execution_count": 45,
   "id": "e33051bf",
   "metadata": {},
   "outputs": [],
   "source": [
    "models_class.append(model_tree_1)"
   ]
  },
  {
   "cell_type": "markdown",
   "id": "9bacc472",
   "metadata": {},
   "source": [
    "#### Случайный лес"
   ]
  },
  {
   "cell_type": "code",
   "execution_count": 46,
   "id": "f2c94f26",
   "metadata": {},
   "outputs": [
    {
     "data": {
      "text/html": [
       "<style>#sk-container-id-5 {color: black;background-color: white;}#sk-container-id-5 pre{padding: 0;}#sk-container-id-5 div.sk-toggleable {background-color: white;}#sk-container-id-5 label.sk-toggleable__label {cursor: pointer;display: block;width: 100%;margin-bottom: 0;padding: 0.3em;box-sizing: border-box;text-align: center;}#sk-container-id-5 label.sk-toggleable__label-arrow:before {content: \"▸\";float: left;margin-right: 0.25em;color: #696969;}#sk-container-id-5 label.sk-toggleable__label-arrow:hover:before {color: black;}#sk-container-id-5 div.sk-estimator:hover label.sk-toggleable__label-arrow:before {color: black;}#sk-container-id-5 div.sk-toggleable__content {max-height: 0;max-width: 0;overflow: hidden;text-align: left;background-color: #f0f8ff;}#sk-container-id-5 div.sk-toggleable__content pre {margin: 0.2em;color: black;border-radius: 0.25em;background-color: #f0f8ff;}#sk-container-id-5 input.sk-toggleable__control:checked~div.sk-toggleable__content {max-height: 200px;max-width: 100%;overflow: auto;}#sk-container-id-5 input.sk-toggleable__control:checked~label.sk-toggleable__label-arrow:before {content: \"▾\";}#sk-container-id-5 div.sk-estimator input.sk-toggleable__control:checked~label.sk-toggleable__label {background-color: #d4ebff;}#sk-container-id-5 div.sk-label input.sk-toggleable__control:checked~label.sk-toggleable__label {background-color: #d4ebff;}#sk-container-id-5 input.sk-hidden--visually {border: 0;clip: rect(1px 1px 1px 1px);clip: rect(1px, 1px, 1px, 1px);height: 1px;margin: -1px;overflow: hidden;padding: 0;position: absolute;width: 1px;}#sk-container-id-5 div.sk-estimator {font-family: monospace;background-color: #f0f8ff;border: 1px dotted black;border-radius: 0.25em;box-sizing: border-box;margin-bottom: 0.5em;}#sk-container-id-5 div.sk-estimator:hover {background-color: #d4ebff;}#sk-container-id-5 div.sk-parallel-item::after {content: \"\";width: 100%;border-bottom: 1px solid gray;flex-grow: 1;}#sk-container-id-5 div.sk-label:hover label.sk-toggleable__label {background-color: #d4ebff;}#sk-container-id-5 div.sk-serial::before {content: \"\";position: absolute;border-left: 1px solid gray;box-sizing: border-box;top: 0;bottom: 0;left: 50%;z-index: 0;}#sk-container-id-5 div.sk-serial {display: flex;flex-direction: column;align-items: center;background-color: white;padding-right: 0.2em;padding-left: 0.2em;position: relative;}#sk-container-id-5 div.sk-item {position: relative;z-index: 1;}#sk-container-id-5 div.sk-parallel {display: flex;align-items: stretch;justify-content: center;background-color: white;position: relative;}#sk-container-id-5 div.sk-item::before, #sk-container-id-5 div.sk-parallel-item::before {content: \"\";position: absolute;border-left: 1px solid gray;box-sizing: border-box;top: 0;bottom: 0;left: 50%;z-index: -1;}#sk-container-id-5 div.sk-parallel-item {display: flex;flex-direction: column;z-index: 1;position: relative;background-color: white;}#sk-container-id-5 div.sk-parallel-item:first-child::after {align-self: flex-end;width: 50%;}#sk-container-id-5 div.sk-parallel-item:last-child::after {align-self: flex-start;width: 50%;}#sk-container-id-5 div.sk-parallel-item:only-child::after {width: 0;}#sk-container-id-5 div.sk-dashed-wrapped {border: 1px dashed gray;margin: 0 0.4em 0.5em 0.4em;box-sizing: border-box;padding-bottom: 0.4em;background-color: white;}#sk-container-id-5 div.sk-label label {font-family: monospace;font-weight: bold;display: inline-block;line-height: 1.2em;}#sk-container-id-5 div.sk-label-container {text-align: center;}#sk-container-id-5 div.sk-container {/* jupyter's `normalize.less` sets `[hidden] { display: none; }` but bootstrap.min.css set `[hidden] { display: none !important; }` so we also need the `!important` here to be able to override the default hidden behavior on the sphinx rendered scikit-learn.org. See: https://github.com/scikit-learn/scikit-learn/issues/21755 */display: inline-block !important;position: relative;}#sk-container-id-5 div.sk-text-repr-fallback {display: none;}</style><div id=\"sk-container-id-5\" class=\"sk-top-container\"><div class=\"sk-text-repr-fallback\"><pre>RandomForestClassifier(class_weight=&#x27;balanced&#x27;, max_depth=9, n_estimators=150,\n",
       "                       random_state=12345)</pre><b>In a Jupyter environment, please rerun this cell to show the HTML representation or trust the notebook. <br />On GitHub, the HTML representation is unable to render, please try loading this page with nbviewer.org.</b></div><div class=\"sk-container\" hidden><div class=\"sk-item\"><div class=\"sk-estimator sk-toggleable\"><input class=\"sk-toggleable__control sk-hidden--visually\" id=\"sk-estimator-id-5\" type=\"checkbox\" checked><label for=\"sk-estimator-id-5\" class=\"sk-toggleable__label sk-toggleable__label-arrow\">RandomForestClassifier</label><div class=\"sk-toggleable__content\"><pre>RandomForestClassifier(class_weight=&#x27;balanced&#x27;, max_depth=9, n_estimators=150,\n",
       "                       random_state=12345)</pre></div></div></div></div></div>"
      ],
      "text/plain": [
       "RandomForestClassifier(class_weight='balanced', max_depth=9, n_estimators=150,\n",
       "                       random_state=12345)"
      ]
     },
     "execution_count": 46,
     "metadata": {},
     "output_type": "execute_result"
    }
   ],
   "source": [
    "# создадим модель RandomForest, подберем наилучший гиперпараметры модели по макс показателю F1,\n",
    "# сохраним наиулушую модель в model_forest_1:\n",
    "f1_max = 0\n",
    "model_forest_1 = None \n",
    "\n",
    "for depth in range(1, 16, 1):\n",
    "    for est in range (10, 151, 10):\n",
    "        model = RandomForestClassifier(max_depth=depth, n_estimators=est, random_state=12345, class_weight='balanced')\n",
    "        model.fit(features_train, target_train)\n",
    "        predicted_valid = model.predict(features_valid)\n",
    "        f1 = f1_score(target_valid, predicted_valid)\n",
    "        if f1 > f1_max:\n",
    "            f1_max = f1\n",
    "            model_forest_1 = model\n",
    "                        \n",
    "model_forest_1"
   ]
  },
  {
   "cell_type": "code",
   "execution_count": 47,
   "id": "4cdf8d5a",
   "metadata": {},
   "outputs": [],
   "source": [
    "models_class.append(model_forest_1)"
   ]
  },
  {
   "cell_type": "code",
   "execution_count": 48,
   "id": "555459c6",
   "metadata": {},
   "outputs": [
    {
     "name": "stdout",
     "output_type": "stream",
     "text": [
      "Recall = 0.73 Precision = 0.388 F1 = 0.507\n",
      "Recall = 0.79 Precision = 0.462 F1 = 0.583\n",
      "Recall = 0.693 Precision = 0.618 F1 = 0.653\n"
     ]
    }
   ],
   "source": [
    "# посмотрим метрики качества для моделей, обученных с применением гиперпараметра class_weight:\n",
    "for model in models_class:\n",
    "    metrics(features_train, target_train, features_valid, target_valid)"
   ]
  },
  {
   "cell_type": "code",
   "execution_count": 49,
   "id": "8eab1cbb",
   "metadata": {},
   "outputs": [
    {
     "name": "stdout",
     "output_type": "stream",
     "text": [
      "Recall = 0.224 Precision = 0.634 F1 = 0.331\n",
      "Recall = 0.466 Precision = 0.772 F1 = 0.582\n",
      "Recall = 0.499 Precision = 0.794 F1 = 0.613\n"
     ]
    }
   ],
   "source": [
    "# и сравним с метриками качества моделей, обученных без учета дисбаланса классов:\n",
    "for model in models:\n",
    "    metrics(features_train, target_train, features_valid, target_valid)"
   ]
  },
  {
   "cell_type": "markdown",
   "id": "5bdc55cf",
   "metadata": {},
   "source": [
    "Показатель метрики F1 значительно вырос только для модели Логистической регрессии. Показатели F1 Дерева Решений и Случайного леса изменились не так сильно.\n",
    "\n",
    "Значительно изменились показатели recall (полноты), теперь доля верно предсказанных положительных ответов относительно действиетльно положительных ответов стала значительно выше, что имеет важное значение для нашей задачи. При этом показатель точности снизился.\n",
    "\n",
    "Наилучший результат показатал модель Случайного леса - model_forest_1 - c гиперпараметрами max_depth - 9, n_estimators - 150, для которой показатели точности и полноты положительного ответа высоки и практически равны."
   ]
  },
  {
   "cell_type": "code",
   "execution_count": 50,
   "id": "10c103c3",
   "metadata": {},
   "outputs": [
    {
     "name": "stdout",
     "output_type": "stream",
     "text": [
      "AUC_ROC = 0.791 <function show at 0x000001830A616F70>\n",
      "AUC_ROC = 0.835 <function show at 0x000001830A616F70>\n",
      "AUC_ROC = 0.876 <function show at 0x000001830A616F70>\n"
     ]
    },
    {
     "data": {
      "image/png": "[encoded data removed]",
      "text/plain": [
       "<Figure size 300x300 with 1 Axes>"
      ]
     },
     "metadata": {},
     "output_type": "display_data"
    },
    {
     "data": {
      "image/png": "[encoded data removed]",
      "text/plain": [
       "<Figure size 300x300 with 1 Axes>"
      ]
     },
     "metadata": {},
     "output_type": "display_data"
    },
    {
     "data": {
      "image/png": "[encoded data removed]",
      "text/plain": [
       "<Figure size 300x300 with 1 Axes>"
      ]
     },
     "metadata": {},
     "output_type": "display_data"
    }
   ],
   "source": [
    "for model in models_class:\n",
    "    auc_roc_sc(target_valid, features_valid, model)"
   ]
  },
  {
   "cell_type": "markdown",
   "id": "ae786b38",
   "metadata": {},
   "source": [
    "__Выводы по разделу:__\n",
    "\n",
    "Применение гиперпараметра \"class_weigth\" значительно повысило качество обученной модели в отношении полноты - доли верно предсказанных моделью ответов \"1\" относительно общего количества ответов \"1\" в валидационной выборке.\n",
    "\n",
    "Показатель AUC_ROC составил:\n",
    "* для Логистической регрессии - 0,790,\n",
    "* для Дерева решений - 0,835,\n",
    "* для Случайного леса - 0,876.\n",
    "\n",
    "\n",
    "Показатель AUC ROC расчет с ростом F1-меры."
   ]
  },
  {
   "cell_type": "markdown",
   "id": "94013f97",
   "metadata": {},
   "source": [
    "### Увеличение данных в выборке"
   ]
  },
  {
   "cell_type": "markdown",
   "id": "13378a5b",
   "metadata": {},
   "source": [
    "Попробуем устранить дисбаланс классов с помощью метода _oversample_. Объектов не так много, поэтому увеличим количество объектов наименьшего класса в данных с помощью SMOTE, на которых снова обучим модели."
   ]
  },
  {
   "cell_type": "code",
   "execution_count": 51,
   "id": "b33c6e5f",
   "metadata": {},
   "outputs": [
    {
     "data": {
      "text/plain": [
       "0    7237\n",
       "1    1854\n",
       "Name: Exited, dtype: int64"
      ]
     },
     "execution_count": 51,
     "metadata": {},
     "output_type": "execute_result"
    }
   ],
   "source": [
    "# посмотрим во сколько раз отрицательные ответы чаще положительных:\n",
    "target.value_counts()"
   ]
  },
  {
   "cell_type": "code",
   "execution_count": 52,
   "id": "9c4ee6f0",
   "metadata": {},
   "outputs": [],
   "source": [
    "# проведем оверсемплинг с помощью метода SMOTE:\n",
    "oversample = SMOTE(random_state=12345)\n",
    "features_train_up, target_train_up = oversample.fit_resample(features_train, target_train)"
   ]
  },
  {
   "cell_type": "code",
   "execution_count": 53,
   "id": "95e4529d",
   "metadata": {},
   "outputs": [
    {
     "data": {
      "text/plain": [
       "0    4342\n",
       "1    1112\n",
       "Name: Exited, dtype: int64"
      ]
     },
     "execution_count": 53,
     "metadata": {},
     "output_type": "execute_result"
    }
   ],
   "source": [
    "target_train.value_counts()"
   ]
  },
  {
   "cell_type": "code",
   "execution_count": 54,
   "id": "2a8e5d36",
   "metadata": {},
   "outputs": [
    {
     "data": {
      "text/plain": [
       "0    4342\n",
       "1    4342\n",
       "Name: Exited, dtype: int64"
      ]
     },
     "execution_count": 54,
     "metadata": {},
     "output_type": "execute_result"
    }
   ],
   "source": [
    "# проверим распределение классов целевого признака в увеличенной тренировочной выборке:\n",
    "target_train_up.value_counts()"
   ]
  },
  {
   "cell_type": "markdown",
   "id": "529b0967",
   "metadata": {},
   "source": [
    "Количество ответов увеличилось, размер выборки вырос с 5,4 тыс объектов до 8,8 тыс. Распределение классов сбалансировано.\n",
    "\n",
    "Обучим модели на новой тренировочной выборке, оценим качество модели по метрике F1. Cохраним наилучшие модели Логистической регрессии, Дерева Решений и Случайного леса в списак models_up."
   ]
  },
  {
   "cell_type": "markdown",
   "id": "752569a4",
   "metadata": {},
   "source": [
    "#### Логистическая регрессия"
   ]
  },
  {
   "cell_type": "code",
   "execution_count": 55,
   "id": "8dfce3f1",
   "metadata": {},
   "outputs": [],
   "source": [
    "# создадим модель LogisticRegression:\n",
    "model_log_2 = LogisticRegression(solver='liblinear', random_state=12345)\n",
    "model_log_2.fit(features_train_up, target_train_up)\n",
    "predicted_valid = model_log_2.predict(features_valid)\n"
   ]
  },
  {
   "cell_type": "code",
   "execution_count": 56,
   "id": "c48b5094",
   "metadata": {},
   "outputs": [],
   "source": [
    "models_up = []\n",
    "models_up.append(model_log_2)"
   ]
  },
  {
   "cell_type": "markdown",
   "id": "c4bc185b",
   "metadata": {},
   "source": [
    "#### Дерево решений"
   ]
  },
  {
   "cell_type": "code",
   "execution_count": 57,
   "id": "66c6355f",
   "metadata": {
    "scrolled": false
   },
   "outputs": [
    {
     "data": {
      "text/html": [
       "<style>#sk-container-id-6 {color: black;background-color: white;}#sk-container-id-6 pre{padding: 0;}#sk-container-id-6 div.sk-toggleable {background-color: white;}#sk-container-id-6 label.sk-toggleable__label {cursor: pointer;display: block;width: 100%;margin-bottom: 0;padding: 0.3em;box-sizing: border-box;text-align: center;}#sk-container-id-6 label.sk-toggleable__label-arrow:before {content: \"▸\";float: left;margin-right: 0.25em;color: #696969;}#sk-container-id-6 label.sk-toggleable__label-arrow:hover:before {color: black;}#sk-container-id-6 div.sk-estimator:hover label.sk-toggleable__label-arrow:before {color: black;}#sk-container-id-6 div.sk-toggleable__content {max-height: 0;max-width: 0;overflow: hidden;text-align: left;background-color: #f0f8ff;}#sk-container-id-6 div.sk-toggleable__content pre {margin: 0.2em;color: black;border-radius: 0.25em;background-color: #f0f8ff;}#sk-container-id-6 input.sk-toggleable__control:checked~div.sk-toggleable__content {max-height: 200px;max-width: 100%;overflow: auto;}#sk-container-id-6 input.sk-toggleable__control:checked~label.sk-toggleable__label-arrow:before {content: \"▾\";}#sk-container-id-6 div.sk-estimator input.sk-toggleable__control:checked~label.sk-toggleable__label {background-color: #d4ebff;}#sk-container-id-6 div.sk-label input.sk-toggleable__control:checked~label.sk-toggleable__label {background-color: #d4ebff;}#sk-container-id-6 input.sk-hidden--visually {border: 0;clip: rect(1px 1px 1px 1px);clip: rect(1px, 1px, 1px, 1px);height: 1px;margin: -1px;overflow: hidden;padding: 0;position: absolute;width: 1px;}#sk-container-id-6 div.sk-estimator {font-family: monospace;background-color: #f0f8ff;border: 1px dotted black;border-radius: 0.25em;box-sizing: border-box;margin-bottom: 0.5em;}#sk-container-id-6 div.sk-estimator:hover {background-color: #d4ebff;}#sk-container-id-6 div.sk-parallel-item::after {content: \"\";width: 100%;border-bottom: 1px solid gray;flex-grow: 1;}#sk-container-id-6 div.sk-label:hover label.sk-toggleable__label {background-color: #d4ebff;}#sk-container-id-6 div.sk-serial::before {content: \"\";position: absolute;border-left: 1px solid gray;box-sizing: border-box;top: 0;bottom: 0;left: 50%;z-index: 0;}#sk-container-id-6 div.sk-serial {display: flex;flex-direction: column;align-items: center;background-color: white;padding-right: 0.2em;padding-left: 0.2em;position: relative;}#sk-container-id-6 div.sk-item {position: relative;z-index: 1;}#sk-container-id-6 div.sk-parallel {display: flex;align-items: stretch;justify-content: center;background-color: white;position: relative;}#sk-container-id-6 div.sk-item::before, #sk-container-id-6 div.sk-parallel-item::before {content: \"\";position: absolute;border-left: 1px solid gray;box-sizing: border-box;top: 0;bottom: 0;left: 50%;z-index: -1;}#sk-container-id-6 div.sk-parallel-item {display: flex;flex-direction: column;z-index: 1;position: relative;background-color: white;}#sk-container-id-6 div.sk-parallel-item:first-child::after {align-self: flex-end;width: 50%;}#sk-container-id-6 div.sk-parallel-item:last-child::after {align-self: flex-start;width: 50%;}#sk-container-id-6 div.sk-parallel-item:only-child::after {width: 0;}#sk-container-id-6 div.sk-dashed-wrapped {border: 1px dashed gray;margin: 0 0.4em 0.5em 0.4em;box-sizing: border-box;padding-bottom: 0.4em;background-color: white;}#sk-container-id-6 div.sk-label label {font-family: monospace;font-weight: bold;display: inline-block;line-height: 1.2em;}#sk-container-id-6 div.sk-label-container {text-align: center;}#sk-container-id-6 div.sk-container {/* jupyter's `normalize.less` sets `[hidden] { display: none; }` but bootstrap.min.css set `[hidden] { display: none !important; }` so we also need the `!important` here to be able to override the default hidden behavior on the sphinx rendered scikit-learn.org. See: https://github.com/scikit-learn/scikit-learn/issues/21755 */display: inline-block !important;position: relative;}#sk-container-id-6 div.sk-text-repr-fallback {display: none;}</style><div id=\"sk-container-id-6\" class=\"sk-top-container\"><div class=\"sk-text-repr-fallback\"><pre>DecisionTreeClassifier(max_depth=8, random_state=12345)</pre><b>In a Jupyter environment, please rerun this cell to show the HTML representation or trust the notebook. <br />On GitHub, the HTML representation is unable to render, please try loading this page with nbviewer.org.</b></div><div class=\"sk-container\" hidden><div class=\"sk-item\"><div class=\"sk-estimator sk-toggleable\"><input class=\"sk-toggleable__control sk-hidden--visually\" id=\"sk-estimator-id-6\" type=\"checkbox\" checked><label for=\"sk-estimator-id-6\" class=\"sk-toggleable__label sk-toggleable__label-arrow\">DecisionTreeClassifier</label><div class=\"sk-toggleable__content\"><pre>DecisionTreeClassifier(max_depth=8, random_state=12345)</pre></div></div></div></div></div>"
      ],
      "text/plain": [
       "DecisionTreeClassifier(max_depth=8, random_state=12345)"
      ]
     },
     "execution_count": 57,
     "metadata": {},
     "output_type": "execute_result"
    }
   ],
   "source": [
    "# создадим модель DecisionTreeClassifier, обучим ее на увеличенных данных, подберем оптимальные гиперпараметры:\n",
    "f1_max = 0\n",
    "model_tree_2 = None\n",
    "\n",
    "for depth in range(1, 16):\n",
    "    model = DecisionTreeClassifier(max_depth=depth, random_state=12345)\n",
    "    model.fit(features_train_up, target_train_up)\n",
    "    predicted_valid = model.predict(features_valid)\n",
    "    f1 = f1_score(target_valid, predicted_valid)\n",
    "    if f1 > f1_max:\n",
    "        f1_max = f1\n",
    "        model_tree_2 = model\n",
    "        \n",
    "model_tree_2"
   ]
  },
  {
   "cell_type": "code",
   "execution_count": 58,
   "id": "3992d87d",
   "metadata": {},
   "outputs": [],
   "source": [
    "models_up.append(model_tree_2)"
   ]
  },
  {
   "cell_type": "markdown",
   "id": "ae5bb2c2",
   "metadata": {},
   "source": [
    "#### Случайный лес"
   ]
  },
  {
   "cell_type": "code",
   "execution_count": 59,
   "id": "904a9882",
   "metadata": {},
   "outputs": [
    {
     "data": {
      "text/html": [
       "<style>#sk-container-id-7 {color: black;background-color: white;}#sk-container-id-7 pre{padding: 0;}#sk-container-id-7 div.sk-toggleable {background-color: white;}#sk-container-id-7 label.sk-toggleable__label {cursor: pointer;display: block;width: 100%;margin-bottom: 0;padding: 0.3em;box-sizing: border-box;text-align: center;}#sk-container-id-7 label.sk-toggleable__label-arrow:before {content: \"▸\";float: left;margin-right: 0.25em;color: #696969;}#sk-container-id-7 label.sk-toggleable__label-arrow:hover:before {color: black;}#sk-container-id-7 div.sk-estimator:hover label.sk-toggleable__label-arrow:before {color: black;}#sk-container-id-7 div.sk-toggleable__content {max-height: 0;max-width: 0;overflow: hidden;text-align: left;background-color: #f0f8ff;}#sk-container-id-7 div.sk-toggleable__content pre {margin: 0.2em;color: black;border-radius: 0.25em;background-color: #f0f8ff;}#sk-container-id-7 input.sk-toggleable__control:checked~div.sk-toggleable__content {max-height: 200px;max-width: 100%;overflow: auto;}#sk-container-id-7 input.sk-toggleable__control:checked~label.sk-toggleable__label-arrow:before {content: \"▾\";}#sk-container-id-7 div.sk-estimator input.sk-toggleable__control:checked~label.sk-toggleable__label {background-color: #d4ebff;}#sk-container-id-7 div.sk-label input.sk-toggleable__control:checked~label.sk-toggleable__label {background-color: #d4ebff;}#sk-container-id-7 input.sk-hidden--visually {border: 0;clip: rect(1px 1px 1px 1px);clip: rect(1px, 1px, 1px, 1px);height: 1px;margin: -1px;overflow: hidden;padding: 0;position: absolute;width: 1px;}#sk-container-id-7 div.sk-estimator {font-family: monospace;background-color: #f0f8ff;border: 1px dotted black;border-radius: 0.25em;box-sizing: border-box;margin-bottom: 0.5em;}#sk-container-id-7 div.sk-estimator:hover {background-color: #d4ebff;}#sk-container-id-7 div.sk-parallel-item::after {content: \"\";width: 100%;border-bottom: 1px solid gray;flex-grow: 1;}#sk-container-id-7 div.sk-label:hover label.sk-toggleable__label {background-color: #d4ebff;}#sk-container-id-7 div.sk-serial::before {content: \"\";position: absolute;border-left: 1px solid gray;box-sizing: border-box;top: 0;bottom: 0;left: 50%;z-index: 0;}#sk-container-id-7 div.sk-serial {display: flex;flex-direction: column;align-items: center;background-color: white;padding-right: 0.2em;padding-left: 0.2em;position: relative;}#sk-container-id-7 div.sk-item {position: relative;z-index: 1;}#sk-container-id-7 div.sk-parallel {display: flex;align-items: stretch;justify-content: center;background-color: white;position: relative;}#sk-container-id-7 div.sk-item::before, #sk-container-id-7 div.sk-parallel-item::before {content: \"\";position: absolute;border-left: 1px solid gray;box-sizing: border-box;top: 0;bottom: 0;left: 50%;z-index: -1;}#sk-container-id-7 div.sk-parallel-item {display: flex;flex-direction: column;z-index: 1;position: relative;background-color: white;}#sk-container-id-7 div.sk-parallel-item:first-child::after {align-self: flex-end;width: 50%;}#sk-container-id-7 div.sk-parallel-item:last-child::after {align-self: flex-start;width: 50%;}#sk-container-id-7 div.sk-parallel-item:only-child::after {width: 0;}#sk-container-id-7 div.sk-dashed-wrapped {border: 1px dashed gray;margin: 0 0.4em 0.5em 0.4em;box-sizing: border-box;padding-bottom: 0.4em;background-color: white;}#sk-container-id-7 div.sk-label label {font-family: monospace;font-weight: bold;display: inline-block;line-height: 1.2em;}#sk-container-id-7 div.sk-label-container {text-align: center;}#sk-container-id-7 div.sk-container {/* jupyter's `normalize.less` sets `[hidden] { display: none; }` but bootstrap.min.css set `[hidden] { display: none !important; }` so we also need the `!important` here to be able to override the default hidden behavior on the sphinx rendered scikit-learn.org. See: https://github.com/scikit-learn/scikit-learn/issues/21755 */display: inline-block !important;position: relative;}#sk-container-id-7 div.sk-text-repr-fallback {display: none;}</style><div id=\"sk-container-id-7\" class=\"sk-top-container\"><div class=\"sk-text-repr-fallback\"><pre>RandomForestClassifier(max_depth=11, n_estimators=40, random_state=12345)</pre><b>In a Jupyter environment, please rerun this cell to show the HTML representation or trust the notebook. <br />On GitHub, the HTML representation is unable to render, please try loading this page with nbviewer.org.</b></div><div class=\"sk-container\" hidden><div class=\"sk-item\"><div class=\"sk-estimator sk-toggleable\"><input class=\"sk-toggleable__control sk-hidden--visually\" id=\"sk-estimator-id-7\" type=\"checkbox\" checked><label for=\"sk-estimator-id-7\" class=\"sk-toggleable__label sk-toggleable__label-arrow\">RandomForestClassifier</label><div class=\"sk-toggleable__content\"><pre>RandomForestClassifier(max_depth=11, n_estimators=40, random_state=12345)</pre></div></div></div></div></div>"
      ],
      "text/plain": [
       "RandomForestClassifier(max_depth=11, n_estimators=40, random_state=12345)"
      ]
     },
     "execution_count": 59,
     "metadata": {},
     "output_type": "execute_result"
    }
   ],
   "source": [
    "# подберем наилучший гиперпараметры модели по макс показателю F1, \n",
    "# наилучшую модель сохраним в переменную model_forest_2:\n",
    "f1_max = 0\n",
    "model_forest_2 = None \n",
    "\n",
    "for depth in range(1, 16, 1):\n",
    "    for est in range (10, 151, 10):\n",
    "        model = RandomForestClassifier(max_depth=depth, n_estimators=est, random_state=12345)\n",
    "        model.fit(features_train_up, target_train_up)\n",
    "        predicted_valid = model.predict(features_valid)\n",
    "        f1 = f1_score(target_valid, predicted_valid)\n",
    "        if f1 > f1_max:\n",
    "            f1_max = f1\n",
    "            model_forest_2 = model       \n",
    "            \n",
    "model_forest_2"
   ]
  },
  {
   "cell_type": "code",
   "execution_count": 60,
   "id": "20c2379b",
   "metadata": {},
   "outputs": [],
   "source": [
    "models_up.append(model_forest_2)"
   ]
  },
  {
   "cell_type": "markdown",
   "id": "7c66b894",
   "metadata": {},
   "source": [
    "Сравним метрики моделей, обученных с помощью метода oversample (увеличение выборки) из списка models_up и обученных с применением параметра \"class_weigth\" из списка models_class."
   ]
  },
  {
   "cell_type": "code",
   "execution_count": 61,
   "id": "c4b90b33",
   "metadata": {},
   "outputs": [
    {
     "name": "stdout",
     "output_type": "stream",
     "text": [
      "Recall = 0.736 Precision = 0.397 F1 = 0.516\n",
      "Recall = 0.658 Precision = 0.557 F1 = 0.603\n",
      "Recall = 0.65 Precision = 0.655 F1 = 0.652\n"
     ]
    }
   ],
   "source": [
    "# посмотрим метрики качества моделей, обученных на увеличенной выборке:\n",
    "for model in models_up:\n",
    "    metrics(features_train_up, target_train_up, features_valid, target_valid)"
   ]
  },
  {
   "cell_type": "code",
   "execution_count": 62,
   "id": "baebe1ba",
   "metadata": {},
   "outputs": [
    {
     "name": "stdout",
     "output_type": "stream",
     "text": [
      "Recall = 0.73 Precision = 0.388 F1 = 0.507\n",
      "Recall = 0.79 Precision = 0.462 F1 = 0.583\n",
      "Recall = 0.693 Precision = 0.618 F1 = 0.653\n"
     ]
    }
   ],
   "source": [
    "# и сравним с метриками качества моделей, обученных с помощью алгоритма \"class_weight\":\n",
    "for model in models_class:\n",
    "    metrics(features_train, target_train, features_valid, target_valid)"
   ]
  },
  {
   "cell_type": "code",
   "execution_count": 63,
   "id": "cda97a70",
   "metadata": {},
   "outputs": [
    {
     "name": "stdout",
     "output_type": "stream",
     "text": [
      "AUC_ROC = 0.791 <function show at 0x000001830A616F70>\n",
      "AUC_ROC = 0.839 <function show at 0x000001830A616F70>\n",
      "AUC_ROC = 0.875 <function show at 0x000001830A616F70>\n"
     ]
    },
    {
     "data": {
      "image/png": "[encoded data removed]",
      "text/plain": [
       "<Figure size 300x300 with 1 Axes>"
      ]
     },
     "metadata": {},
     "output_type": "display_data"
    },
    {
     "data": {
      "image/png": "[encoded data removed]",
      "text/plain": [
       "<Figure size 300x300 with 1 Axes>"
      ]
     },
     "metadata": {},
     "output_type": "display_data"
    },
    {
     "data": {
      "image/png": "[encoded data removed]",
      "text/plain": [
       "<Figure size 300x300 with 1 Axes>"
      ]
     },
     "metadata": {},
     "output_type": "display_data"
    }
   ],
   "source": [
    "# посмотрим показатель AUC ROC моделей, обученных на увеличенной выборке:\n",
    "for model in models_up:\n",
    "    auc_roc_sc(target_valid, features_valid, model)"
   ]
  },
  {
   "cell_type": "markdown",
   "id": "79e44a23",
   "metadata": {},
   "source": [
    "Метод _oversample_ также повлиял на показатели качества обученных моделей. По сравнению со взвешиванием классов, увеличение выборки повысило показатели метрик Логистической регрессии и Дерева решений. Для Случайного леса показатели F1-меры и AUC ROC соответствуют таким же показателям модели, обученной с применением гиперпараметра \"class_weigth\".\n",
    "Показатели F1-меры наиболее высоки у модели Случайны лес с гиперпараметрами max_depth - 11 и  n_estimators - 40. \n",
    "\n",
    "В целом сравнение метрик моделей, обученных с помощью 2 х методов борьбы с дисбалансом, показало, что показатели F1-меры не сильно отличаются по соответствующим алгоритмам. При этом модели Дерева решений и Случайного леса, обученные на увеличенной выборке, показывают практически равные друг другу пары показателий Точность-Полнота. Показатели AUC ROC также не сильно отличаются.\n",
    "\n",
    "__Для проверки на тестовой выборке возьмем модель random_forest_1, обученную на с использованием метода взвешивания классов с гиперпараметрами max_depth - 9 и  n_estimators - 150__.\n"
   ]
  },
  {
   "cell_type": "markdown",
   "id": "f63676cf",
   "metadata": {},
   "source": [
    "## Проверка модели на тестовых данных"
   ]
  },
  {
   "cell_type": "markdown",
   "id": "71d8ce89",
   "metadata": {},
   "source": [
    "### Проверка модели random_forest_1 на тестовой выборке"
   ]
  },
  {
   "cell_type": "code",
   "execution_count": 64,
   "id": "74b779e8",
   "metadata": {},
   "outputs": [
    {
     "name": "stdout",
     "output_type": "stream",
     "text": [
      "F1 на тестовых данных 0.59973\n",
      "F1 на тренировочных данных 0.75958\n"
     ]
    }
   ],
   "source": [
    "# Проведем проверку качества модели model_forest_1 на тестовых данный и на тренировочных данных.\n",
    "predicted_test = model_forest_1.predict(features_test)\n",
    "print('F1 на тестовых данных', f'{f1_score(target_test, predicted_test):.5}')\n",
    "predicted_train = model_forest_1.predict(features_train)\n",
    "print('F1 на тренировочных данных', f'{f1_score(target_train, predicted_train):.5}')"
   ]
  },
  {
   "cell_type": "markdown",
   "id": "54dc9c19",
   "metadata": {},
   "source": [
    "Модель явно знает тренировочные данные очень хорошо, но при этом она справилась с тестовыми данными не хуже, чем с валидационной выборкой."
   ]
  },
  {
   "cell_type": "code",
   "execution_count": 65,
   "id": "2cbc928d",
   "metadata": {
    "scrolled": true
   },
   "outputs": [
    {
     "name": "stdout",
     "output_type": "stream",
     "text": [
      "Recall = 0.6037735849056604\n",
      "Precision =  0.5957446808510638\n"
     ]
    }
   ],
   "source": [
    "print('Recall =', recall_score(target_test, predicted_test))\n",
    "print('Precision = ', precision_score(target_test, predicted_test))"
   ]
  },
  {
   "cell_type": "markdown",
   "id": "f8ac51d2",
   "metadata": {},
   "source": [
    "Полнота составляет только 0,603, тоже что хуже чем тот же показатель на валидационной выборке (0,693). Полнота и точность практически соответствуют друг другу."
   ]
  },
  {
   "cell_type": "code",
   "execution_count": 66,
   "id": "9511c777",
   "metadata": {
    "scrolled": true
   },
   "outputs": [
    {
     "data": {
      "text/plain": [
       "0.8356239692138537"
      ]
     },
     "execution_count": 66,
     "metadata": {},
     "output_type": "execute_result"
    }
   ],
   "source": [
    "# Проверим модель на адекватность c помощью метрики accuracy:\n",
    "accuracy_score(target_test, predicted_test)"
   ]
  },
  {
   "cell_type": "markdown",
   "id": "f98af40f",
   "metadata": {},
   "source": [
    "### Проверка на Dummy-классификаторе"
   ]
  },
  {
   "cell_type": "markdown",
   "id": "cf9b8c14",
   "metadata": {},
   "source": [
    "Предсказания модели random_forest_1 точнее, чем предсказания самого частого класса целевого признака. Модель прошла оценку на адекватность."
   ]
  },
  {
   "cell_type": "code",
   "execution_count": 67,
   "id": "953a3b11",
   "metadata": {},
   "outputs": [
    {
     "data": {
      "text/plain": [
       "0.33881278538812787"
      ]
     },
     "execution_count": 67,
     "metadata": {},
     "output_type": "execute_result"
    }
   ],
   "source": [
    "# проверим модель с помощью DummyClassifier:\n",
    "dummy_model_1 = DummyClassifier(strategy='constant', constant=1)\n",
    "dummy_model_1.fit(features_train, target_train)\n",
    "predict_dummy = dummy_model_1.predict(features_test)\n",
    "f1_score(target_test, predict_dummy)"
   ]
  },
  {
   "cell_type": "markdown",
   "id": "ef1476bd",
   "metadata": {},
   "source": [
    "Предсказав на Dummy-модели только положительные ответы (наиболее редкий класс целевого признака), получили F1 отличный от \"0\", что говорит о том, все таки получили модель с некоторой точностью по классу \"1\", но ниже чем наша обученная  и прошедшая проверку на тестовой выборке модель. "
   ]
  },
  {
   "cell_type": "code",
   "execution_count": 68,
   "id": "d9df3702",
   "metadata": {},
   "outputs": [
    {
     "data": {
      "text/plain": [
       "array([[   0, 1448],\n",
       "       [   0,  371]], dtype=int64)"
      ]
     },
     "execution_count": 68,
     "metadata": {},
     "output_type": "execute_result"
    }
   ],
   "source": [
    "confusion_matrix(target_test, predict_dummy)"
   ]
  },
  {
   "cell_type": "code",
   "execution_count": 69,
   "id": "8f104859",
   "metadata": {},
   "outputs": [
    {
     "name": "stdout",
     "output_type": "stream",
     "text": [
      "Recall = 1.0\n",
      "Precision =  0.2039582188015393\n"
     ]
    }
   ],
   "source": [
    "print('Recall =', recall_score(target_test, predict_dummy))\n",
    "print('Precision = ', precision_score(target_test, predict_dummy))"
   ]
  },
  {
   "cell_type": "markdown",
   "id": "5f615e41",
   "metadata": {},
   "source": [
    "__Целью исследования было решение задачи классификации средствами предсказания модели обученной с учителем. Модель должна определять кто из клиентов банка в ближайшее время откажется от услуг банка на основе данных о поведении клиентов. Проблема состоит в том, что  классы целевого признака несбалансированы: ответы \"0\" состалюят примерно 80%. Если не решать проблему дисбаланса классов, обученная модель имеет высокий показатель точности, но достаточно плохо справляется с определением положительного (наиболее редкого) ответа.__\n",
    "\n",
    "__Для решения проблемы дисбаланса классов было использовано 2 метода:__\n",
    "* __взвешивание классов с помощью гиперпараметра модели 'class_wiegth' со значением \"balanced\",__\n",
    "* __увеличение положительных ответов в тренировочной выборке с использованием SMOTE.__\n",
    "\n",
    "__Оба метода значительно увеличили выбранные показатели оценки качества моделей - F1-меру и AUC_ROC. Особенно стоит отметить рост показателя recall, для всех моделей обученных с применением методов борьбы с дисбалансом классов. Рост F1-меры приводит к росту показателя AUC ROC. Оба использованных метода справились с проблемой дисбаланса классов практически одинаково.__\n",
    "\n",
    "__Наиболее перспективная модель, обученная с учетом взвешивания классов, сохранена под названием \"random_forest_1\". На тестовой выборке показатель F1-меры составил 0,599, чуть хуже, чем на валидационной выборке. При этом Выбранная модель однозначно делает прогноз точнее слуйного предсказания и лучше справляется с предсказанием положительных ответов (показатель recall составляет 0,603 против 0,499 на модели, обученной без учета дисбаланса классов). Далее модель была проверена на адекватность (сравненеие предсказаний модели со случайными предсказаниями, в том числе на DummyClassifier).__"
   ]
  }
 ],
 "metadata": {
  "kernelspec": {
   "display_name": "Python 3 (ipykernel)",
   "language": "python",
   "name": "python3"
  },
  "language_info": {
   "codemirror_mode": {
    "name": "ipython",
    "version": 3
   },
   "file_extension": ".py",
   "mimetype": "text/x-python",
   "name": "python",
   "nbconvert_exporter": "python",
   "pygments_lexer": "ipython3",
   "version": "3.9.13"
  },
  "toc": {
   "base_numbering": 1,
   "nav_menu": {},
   "number_sections": true,
   "sideBar": true,
   "skip_h1_title": true,
   "title_cell": "Исследование для Beta Bank",
   "title_sidebar": "Contents",
   "toc_cell": true,
   "toc_position": {
    "height": "calc(100% - 180px)",
    "left": "10px",
    "top": "150px",
    "width": "231.725px"
   },
   "toc_section_display": true,
   "toc_window_display": true
  }
 },
 "nbformat": 4,
 "nbformat_minor": 5
}
